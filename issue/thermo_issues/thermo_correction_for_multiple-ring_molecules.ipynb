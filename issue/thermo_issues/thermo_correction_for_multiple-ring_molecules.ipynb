{
 "cells": [
  {
   "cell_type": "markdown",
   "metadata": {},
   "source": [
    "## Problem description"
   ]
  },
  {
   "cell_type": "code",
   "execution_count": 1,
   "metadata": {
    "collapsed": true
   },
   "outputs": [],
   "source": [
    "from rmgpy.species import Species\n",
    "from rmgpy.data.rmg import RMGDatabase\n",
    "from rmgpy import settings"
   ]
  },
  {
   "cell_type": "code",
   "execution_count": 2,
   "metadata": {
    "collapsed": true
   },
   "outputs": [],
   "source": [
    "database = RMGDatabase()\n",
    "database.load(settings['database.directory'], thermoLibraries='none',\\\n",
    "             kineticsFamilies='none', kineticsDepositories='none', reactionLibraries = [])\n",
    "\n",
    "thermoDatabase = database.thermo"
   ]
  },
  {
   "cell_type": "code",
   "execution_count": 3,
   "metadata": {
    "collapsed": false
   },
   "outputs": [
    {
     "data": {
      "image/png": "[encoded data removed]",
      "text/plain": [
       "Species(label=\"\", molecule=[Molecule(SMILES=\"CCCCCCCCCCCC(CC=C1C=CC=CC1)C1C=CC=CC=1\"), Molecule(SMILES=\"CCCCCCCCCCCC(CC=C1C=CC=CC1)c1ccccc1\")])"
      ]
     },
     "execution_count": 3,
     "metadata": {},
     "output_type": "execute_result"
    }
   ],
   "source": [
    "spec1 = Species().fromSMILES('CCCCCCCCCCCC(CC=C1C=CC=CC1)c1ccccc1')\n",
    "spec1.generateResonanceIsomers()\n",
    "spec1"
   ]
  },
  {
   "cell_type": "code",
   "execution_count": 4,
   "metadata": {
    "collapsed": false
   },
   "outputs": [
    {
     "data": {
      "text/plain": [
       "ThermoData(Tdata=([300,400,500,600,800,1000,1500],'K'), Cpdata=([460.181,600.923,726.861,833.587,996.746,1113.58,1287.32],'J/(mol*K)'), H298=(-44.6851,'kJ/mol'), S298=(1076.57,'J/(mol*K)'), comment=\"\"\"Thermo group additivity estimation: group(Cs-CbCsCsH) + other(R) + group(Cs-CsCsHH) + other(R) + group(Cs-CsCsHH) + other(R) + group(Cs-CsCsHH) + other(R) + group(Cs-CsCsHH) + other(R) + group(Cs-CsCsHH) + other(R) + group(Cs-CsCsHH) + other(R) + group(Cs-CsCsHH) + other(R) + group(Cs-CsCsHH) + other(R) + group(Cs-CsCsHH) + other(R) + group(Cs-CsCsHH) + other(R) + group(Cs-(Cds-Cds)CsHH) + other(R) + group(Cs-(Cds-Cds)(Cds-Cds)HH) + other(R) + group(Cs-CsHHH) + other(R) + group(Cb-Cs) + other(R) + group(Cds-Cds(Cds-Cds)Cs) + other(R) + group(Cds-CdsCsH) + other(R) + group(Cds-CdsCsH) + other(R) + group(Cds-Cds(Cds-Cds)H) + other(R) + group(Cb-H) + other(R) + group(Cb-H) + other(R) + group(Cds-Cds(Cds-Cds)H) + other(R) + group(Cds-Cds(Cds-Cds)H) + other(R) + group(Cb-H) + other(R) + group(Cb-H) + other(R) + group(Cb-H) + other(R) + ring(13cyclohexadiene5methylene) + ring(13cyclohexadiene5methylene)\"\"\")"
      ]
     },
     "execution_count": 4,
     "metadata": {},
     "output_type": "execute_result"
    }
   ],
   "source": [
    "spec1_thermo = thermoDatabase.estimateThermoViaGroupAdditivity(spec1.molecule[1])\n",
    "spec1_thermo"
   ]
  },
  {
   "cell_type": "markdown",
   "metadata": {},
   "source": [
    "we only need one ring correction (`ring(13cyclohexadiene5methylene)`), but RMG gives two. This is caused by the code block below:\n",
    "```python\n",
    "def computeGroupAdditivityThermo(self, molecule):\n",
    "....\n",
    "    rings = molecule.getSmallestSetOfSmallestRings()\n",
    "    for ring in rings:\n",
    "        # Make a temporary structure containing only the atoms in the ring\n",
    "        # NB. if any of the ring corrections depend on ligands not in the ring, they will not be found!\n",
    "        try:\n",
    "            self.__addGroupThermoData(thermoData, self.groups['ring'], molecule, {})\n",
    "        except KeyError:\n",
    "            logging.error(\"Couldn't find in ring database:\")\n",
    "            logging.error(ring)\n",
    "            logging.error(ring.toAdjacencyList())\n",
    "            raise\n",
    "```"
   ]
  },
  {
   "cell_type": "markdown",
   "metadata": {},
   "source": [
    "## After the new commit"
   ]
  },
  {
   "cell_type": "code",
   "execution_count": 4,
   "metadata": {
    "collapsed": false
   },
   "outputs": [
    {
     "data": {
      "text/plain": [
       "ThermoData(Tdata=([300,400,500,600,800,1000,1500],'K'), Cpdata=([482.93,626.395,751.078,854.482,1011.92,1124.73,1292.28],'J/(mol*K)'), H298=(-24.6856,'kJ/mol'), S298=(958.185,'J/(mol*K)'), comment=\"\"\"Thermo group additivity estimation: group(Cs-CbCsCsH) + other(R) + group(Cs-CsCsHH) + other(R) + group(Cs-CsCsHH) + other(R) + group(Cs-CsCsHH) + other(R) + group(Cs-CsCsHH) + other(R) + group(Cs-CsCsHH) + other(R) + group(Cs-CsCsHH) + other(R) + group(Cs-CsCsHH) + other(R) + group(Cs-CsCsHH) + other(R) + group(Cs-CsCsHH) + other(R) + group(Cs-CsCsHH) + other(R) + group(Cs-(Cds-Cds)CsHH) + other(R) + group(Cs-(Cds-Cds)(Cds-Cds)HH) + other(R) + group(Cs-CsHHH) + other(R) + group(Cb-Cs) + other(R) + group(Cds-Cds(Cds-Cds)Cs) + other(R) + group(Cds-CdsCsH) + other(R) + group(Cds-CdsCsH) + other(R) + group(Cds-Cds(Cds-Cds)H) + other(R) + group(Cb-H) + other(R) + group(Cb-H) + other(R) + group(Cds-Cds(Cds-Cds)H) + other(R) + group(Cds-Cds(Cds-Cds)H) + other(R) + group(Cb-H) + other(R) + group(Cb-H) + other(R) + group(Cb-H) + other(R) + ring(Ring) + ring(13cyclohexadiene5methylene)\"\"\")"
      ]
     },
     "execution_count": 4,
     "metadata": {},
     "output_type": "execute_result"
    }
   ],
   "source": [
    "spec1_thermo = thermoDatabase.estimateThermoViaGroupAdditivity(spec1.molecule[1])\n",
    "spec1_thermo"
   ]
  },
  {
   "cell_type": "code",
   "execution_count": null,
   "metadata": {
    "collapsed": true
   },
   "outputs": [],
   "source": []
  }
 ],
 "metadata": {
  "kernelspec": {
   "display_name": "Python 2",
   "language": "python",
   "name": "python2"
  },
  "language_info": {
   "codemirror_mode": {
    "name": "ipython",
    "version": 2
   },
   "file_extension": ".py",
   "mimetype": "text/x-python",
   "name": "python",
   "nbconvert_exporter": "python",
   "pygments_lexer": "ipython2",
   "version": "2.7.11"
  }
 },
 "nbformat": 4,
 "nbformat_minor": 0
}
