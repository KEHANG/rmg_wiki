{
 "cells": [
  {
   "cell_type": "markdown",
   "metadata": {},
   "source": [
    "# Problem Description"
   ]
  },
  {
   "cell_type": "code",
   "execution_count": 8,
   "metadata": {
    "collapsed": true
   },
   "outputs": [],
   "source": [
    "from rmgpy.species import Species\n",
    "from rmgpy.data.rmg import RMGDatabase\n",
    "from rmgpy import settings\n",
    "from IPython.display import display\n",
    "from rmgpy.cantherm.output import prettify"
   ]
  },
  {
   "cell_type": "code",
   "execution_count": 2,
   "metadata": {
    "collapsed": true
   },
   "outputs": [],
   "source": [
    "database = RMGDatabase()\n",
    "database.load(settings['database.directory'], thermoLibraries='none',\\\n",
    "             kineticsFamilies='none', kineticsDepositories='none', reactionLibraries = [])\n",
    "\n",
    "thermoDatabase = database.thermo"
   ]
  },
  {
   "cell_type": "markdown",
   "metadata": {},
   "source": [
    "## Example 1"
   ]
  },
  {
   "cell_type": "code",
   "execution_count": 14,
   "metadata": {
    "collapsed": false
   },
   "outputs": [
    {
     "data": {
      "image/png": "[encoded data removed]",
      "text/plain": [
       "Species(label=\"\", molecule=[Molecule(SMILES=\"C1=CC2CCCCC2=CC1\")])"
      ]
     },
     "metadata": {},
     "output_type": "display_data"
    },
    {
     "name": "stdout",
     "output_type": "stream",
     "text": [
      "ThermoData(\n",
      "    Tdata = ([300, 400, 500, 600, 800, 1000, 1500], 'K'),\n",
      "    Cpdata = ([201.585, 254.178, 299.407, 336.31, 393.003, 433.923, 493.586], 'J/(mol*K)'),\n",
      "    H298 = (46.7353, 'kJ/mol'),\n",
      "    S298 = (194.305, 'J/(mol*K)'),\n",
      "    Cp0 = (33.2579, 'J/(mol*K)'),\n",
      "    CpInf = (582.013, 'J/(mol*K)'),\n",
      "    comment = 'Thermo group additivity estimation: group(Cs-(Cds-Cds)(Cds-Cds)CsH) + other(R) + group(Cs-CsCsHH) + other(R) + group(Cs-CsCsHH) + other(R) + group(Cs-CsCsHH) + other(R) + group(Cs-(Cds-Cds)CsHH) + other(R) + group(Cs-(Cds-Cds)(Cds-Cds)HH) + other(R) + group(Cds-CdsCsCs) + other(R) + group(Cds-CdsCsH) + other(R) + group(Cds-CdsCsH) + other(R) + group(Cds-CdsCsH) + other(R) + polycyclic(PolycyclicRing)',\n",
      ")\n"
     ]
    }
   ],
   "source": [
    "spec1 = Species().fromSMILES('C1C=CC2CCCCC2=C1')\n",
    "spec1.generateResonanceIsomers()\n",
    "display(spec1)\n",
    "print prettify(repr(thermoDatabase.getThermoDataFromGroups(spec1)))"
   ]
  },
  {
   "cell_type": "code",
   "execution_count": 15,
   "metadata": {
    "collapsed": false
   },
   "outputs": [
    {
     "data": {
      "image/png": "[encoded data removed]",
      "text/plain": [
       "Species(label=\"\", molecule=[Molecule(SMILES=\"C1=CCC2C=CCCC2=C1\")])"
      ]
     },
     "metadata": {},
     "output_type": "display_data"
    },
    {
     "name": "stdout",
     "output_type": "stream",
     "text": [
      "ThermoData(\n",
      "    Tdata = ([300, 400, 500, 600, 800, 1000, 1500], 'K'),\n",
      "    Cpdata = ([158.448, 212.129, 258.069, 295.6, 351.582, 391.037, 449.654], 'J/(mol*K)'),\n",
      "    H298 = (175.657, 'kJ/mol'),\n",
      "    S298 = (397.815, 'J/(mol*K)'),\n",
      "    Cp0 = (33.2579, 'J/(mol*K)'),\n",
      "    CpInf = (532.126, 'J/(mol*K)'),\n",
      "    comment = 'Thermo group additivity estimation: group(Cs-(Cds-Cds)(Cds-Cds)CsH) + other(R) + group(Cs-(Cds-Cds)CsHH) + other(R) + group(Cs-(Cds-Cds)CsHH) + other(R) + group(Cs-(Cds-Cds)CsHH) + other(R) + group(Cds-CdsCsCs) + other(R) + group(Cds-CdsCsH) + other(R) + group(Cds-CdsCsH) + other(R) + group(Cds-CdsCsH) + other(R) + group(Cds-Cds(Cds-Cds)H) + other(R) + group(Cds-Cds(Cds-Cds)H) + other(R) + polycyclic(pdt19-1)',\n",
      ")\n"
     ]
    }
   ],
   "source": [
    "spec1_sib = Species().fromSMILES('C1C=CC2CC=CC=C2C1')\n",
    "spec1_sib.generateResonanceIsomers()\n",
    "display(spec1_sib)\n",
    "print prettify(repr(thermoDatabase.getThermoDataFromGroups(spec1_sib)))"
   ]
  },
  {
   "cell_type": "markdown",
   "metadata": {},
   "source": [
    "`spec1` only matches the most generic polycyclic correction, while its sibling `spec1_sib` in below can find a specific correction. So here is \n",
    "\n",
    "**PROBLEM 1: The correction data in database is not effectively used; it's only used if a exact match is found.**\n",
    "\n",
    "**SOLUTION: re-organize the polycyclic tree to enable RMG to use sibling info.**"
   ]
  },
  {
   "cell_type": "markdown",
   "metadata": {},
   "source": [
    "# Example 2"
   ]
  },
  {
   "cell_type": "code",
   "execution_count": 17,
   "metadata": {
    "collapsed": false
   },
   "outputs": [
    {
     "data": {
      "image/png": "[encoded data removed]",
      "text/plain": [
       "Species(label=\"\", molecule=[Molecule(SMILES=\"CCCCCCCCCCCCC1=CC=CC2C3C=CCC=C3CC12\")])"
      ]
     },
     "metadata": {},
     "output_type": "display_data"
    },
    {
     "name": "stdout",
     "output_type": "stream",
     "text": [
      "ThermoData(\n",
      "    Tdata = ([300, 400, 500, 600, 800, 1000, 1500], 'K'),\n",
      "    Cpdata = ([483.21, 625.675, 749.815, 850.984, 1005.96, 1116.84, 1280.56], 'J/(mol*K)'),\n",
      "    H298 = (-8.24248, 'kJ/mol'),\n",
      "    S298 = (754.613, 'J/(mol*K)'),\n",
      "    Cp0 = (33.2579, 'J/(mol*K)'),\n",
      "    CpInf = (1504.92, 'J/(mol*K)'),\n",
      "    comment = 'Thermo group additivity estimation: group(Cs-(Cds-Cds)CsCsH) + other(R) + group(Cs-(Cds-Cds)CsCsH) + other(R) + group(Cs-(Cds-Cds)(Cds-Cds)CsH) + other(R) + group(Cs-CsCsHH) + other(R) + group(Cs-CsCsHH) + other(R) + group(Cs-CsCsHH) + other(R) + group(Cs-CsCsHH) + other(R) + group(Cs-CsCsHH) + other(R) + group(Cs-CsCsHH) + other(R) + group(Cs-CsCsHH) + other(R) + group(Cs-CsCsHH) + other(R) + group(Cs-CsCsHH) + other(R) + group(Cs-CsCsHH) + other(R) + group(Cs-(Cds-Cds)CsHH) + other(R) + group(Cs-(Cds-Cds)CsHH) + other(R) + group(Cs-(Cds-Cds)(Cds-Cds)HH) + other(R) + group(Cs-CsHHH) + other(R) + group(Cds-CdsCsCs) + other(R) + group(Cds-CdsCsCs) + other(R) + group(Cds-CdsCsH) + other(R) + group(Cds-CdsCsH) + other(R) + group(Cds-CdsCsH) + other(R) + group(Cds-CdsCsH) + other(R) + group(Cds-Cds(Cds-Cds)H) + other(R) + group(Cds-Cds(Cds-Cds)H) + other(R) + polycyclic(C12CCCC1=CCC=C2)',\n",
      ")\n"
     ]
    }
   ],
   "source": [
    "spec2 = Species().fromSMILES('CCCCCCCCCCCCC1=CC=CC2C3C=CCC=C3CC12')\n",
    "spec2.generateResonanceIsomers()\n",
    "display(spec2)\n",
    "print prettify(repr(thermoDatabase.getThermoDataFromGroups(spec2)))"
   ]
  },
  {
   "cell_type": "markdown",
   "metadata": {},
   "source": [
    "`spec2` has a 3-ring polycyclic group, but it partially matches a 2-ring polycyclic correction. We know it probably has very different correction from the actual 3-ring correction. So here is \n",
    "\n",
    "**PROBLEM 2: we don't have enough data in database**\n",
    "\n",
    "**SOLUTION: detect partial match for polycyclic molecules, spawn QM job and enlarge the database. In the meantime, for large molecules, we might also want to develop a heuristic/machine learning way of estimating polycyclic correction.**"
   ]
  },
  {
   "cell_type": "markdown",
   "metadata": {},
   "source": [
    "# Example 3"
   ]
  },
  {
   "cell_type": "markdown",
   "metadata": {},
   "source": [
    "Currently when having new data for polycyclic groups, we simply insert it in L2 as below\n",
    "```python\n",
    "...\n",
    "    L2: INDENE\n",
    "    L2: INDENE-1\n",
    "    L2: 2HINDENE\n",
    "    L2: prod2\n",
    "    L2: prod2-1\n",
    "    L2: prod4\n",
    "    L2: prod4-1\n",
    "    L2: naphthalene\n",
    "    L2: naphthalene-1\n",
    "```\n",
    "**PROBLEM 3** includes two issues:\n",
    "\n",
    "- worsen the problem shown in `Example 1`, if no exact match, return to generic node directly.\n",
    "\n",
    "- hard to figure out what data we are lacking, what we add is just some examples not systematic solution."
   ]
  },
  {
   "cell_type": "markdown",
   "metadata": {},
   "source": [
    "# Potential Contributions to Make\n",
    "\n",
    "- Re-organize the polycyclic tree in a checmically sensible way which helps\n",
    "    \n",
    "    - better use available sibling data when no exact match is found\n",
    "    \n",
    "    - figure out what data is lacking\n",
    "    \n",
    "    - gain insights for generalization\n",
    "    \n",
    "- Provide a scheme to use tree as a building block to best guess for complicated polycyclic ring correction\n",
    "\n",
    "- Automatic workflow to enlarge polycyclic database from identification through QM job to new entry insertion. "
   ]
  },
  {
   "cell_type": "markdown",
   "metadata": {},
   "source": []
  }
 ],
 "metadata": {
  "kernelspec": {
   "display_name": "Python 2",
   "language": "python",
   "name": "python2"
  },
  "language_info": {
   "codemirror_mode": {
    "name": "ipython",
    "version": 2
   },
   "file_extension": ".py",
   "mimetype": "text/x-python",
   "name": "python",
   "nbconvert_exporter": "python",
   "pygments_lexer": "ipython2",
   "version": "2.7.11"
  }
 },
 "nbformat": 4,
 "nbformat_minor": 0
}
