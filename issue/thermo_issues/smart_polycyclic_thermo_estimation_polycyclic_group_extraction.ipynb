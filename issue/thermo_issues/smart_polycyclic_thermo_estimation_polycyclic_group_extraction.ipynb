{
 "cells": [
  {
   "cell_type": "markdown",
   "metadata": {},
   "source": [
    "# Problem Description"
   ]
  },
  {
   "cell_type": "code",
   "execution_count": 1,
   "metadata": {
    "collapsed": true
   },
   "outputs": [],
   "source": [
    "from rmgpy.species import Species\n",
    "from rmgpy.data.rmg import RMGDatabase\n",
    "from rmgpy import settings\n",
    "from IPython.display import display\n",
    "from rmgpy.cantherm.output import prettify"
   ]
  },
  {
   "cell_type": "code",
   "execution_count": 2,
   "metadata": {
    "collapsed": false
   },
   "outputs": [],
   "source": [
    "database = RMGDatabase()\n",
    "database.load(settings['database.directory'], thermoLibraries='none',\\\n",
    "             kineticsFamilies='none', kineticsDepositories='none', reactionLibraries = [])\n",
    "\n",
    "thermoDatabase = database.thermo"
   ]
  },
  {
   "cell_type": "markdown",
   "metadata": {},
   "source": [
    "## Example 1"
   ]
  },
  {
   "cell_type": "code",
   "execution_count": 15,
   "metadata": {
    "collapsed": false
   },
   "outputs": [
    {
     "data": {
      "image/png": "[encoded data removed]",
      "text/plain": [
       "Species(label=\"\", molecule=[Molecule(SMILES=\"C1CCC2CCCCC2C1\")])"
      ]
     },
     "metadata": {},
     "output_type": "display_data"
    },
    {
     "name": "stdout",
     "output_type": "stream",
     "text": [
      "ThermoData(\n",
      "    Tdata = ([300, 400, 500, 600, 800, 1000, 1500], 'K'),\n",
      "    Cpdata = ([222.087, 282.838, 336.143, 380.326, 448.441, 497.143, 570.447], 'J/(mol*K)'),\n",
      "    H298 = (-180.916, 'kJ/mol'),\n",
      "    S298 = (214.304, 'J/(mol*K)'),\n",
      "    Cp0 = (33.2579, 'J/(mol*K)'),\n",
      "    CpInf = (681.787, 'J/(mol*K)'),\n",
      "    comment = 'Thermo group additivity estimation: group(Cs-CsCsCsH) + other(R) + group(Cs-CsCsCsH) + other(R) + group(Cs-CsCsHH) + other(R) + group(Cs-CsCsHH) + other(R) + group(Cs-CsCsHH) + other(R) + group(Cs-CsCsHH) + other(R) + group(Cs-CsCsHH) + other(R) + group(Cs-CsCsHH) + other(R) + group(Cs-CsCsHH) + other(R) + group(Cs-CsCsHH) + other(R) + polycyclic(PolycyclicRing)',\n",
      ")\n"
     ]
    }
   ],
   "source": [
    "spec = Species().fromSMILES('C1CCC2CCCCC2C1')\n",
    "spec.generateResonanceIsomers()\n",
    "display(spec)\n",
    "print prettify(repr(thermoDatabase.getThermoDataFromGroups(spec)))"
   ]
  },
  {
   "cell_type": "markdown",
   "metadata": {},
   "source": [
    "## Example 2"
   ]
  },
  {
   "cell_type": "code",
   "execution_count": 13,
   "metadata": {
    "collapsed": false
   },
   "outputs": [
    {
     "data": {
      "image/png": "[encoded data removed]",
      "text/plain": [
       "Species(label=\"\", molecule=[Molecule(SMILES=\"C1=CCC2CCC=CC2=C1\")])"
      ]
     },
     "metadata": {},
     "output_type": "display_data"
    },
    {
     "name": "stdout",
     "output_type": "stream",
     "text": [
      "ThermoData(\n",
      "    Tdata = ([300, 400, 500, 600, 800, 1000, 1500], 'K'),\n",
      "    Cpdata = ([192.464, 248.446, 293.006, 326.185, 375.807, 409.948, 460.868], 'J/(mol*K)'),\n",
      "    H298 = (127.486, 'kJ/mol'),\n",
      "    S298 = (158.197, 'J/(mol*K)'),\n",
      "    Cp0 = (33.2579, 'J/(mol*K)'),\n",
      "    CpInf = (532.126, 'J/(mol*K)'),\n",
      "    comment = 'Thermo group additivity estimation: group(Cs-(Cds-Cds)CsCsH) + other(R) + group(Cs-CsCsHH) + other(R) + group(Cs-(Cds-Cds)CsHH) + other(R) + group(Cs-(Cds-Cds)CsHH) + other(R) + group(Cds-Cds(Cds-Cds)Cs) + other(R) + group(Cds-CdsCsH) + other(R) + group(Cds-CdsCsH) + other(R) + group(Cds-Cds(Cds-Cds)H) + other(R) + group(Cds-Cds(Cds-Cds)H) + other(R) + group(Cds-Cds(Cds-Cds)H) + other(R) + polycyclic(PolycyclicRing)',\n",
      ")\n"
     ]
    }
   ],
   "source": [
    "spec1 = Species().fromSMILES('C=1CCC2CC=CC=C2C1')\n",
    "spec1.generateResonanceIsomers()\n",
    "display(spec1)\n",
    "print prettify(repr(thermoDatabase.getThermoDataFromGroups(spec1)))"
   ]
  },
  {
   "cell_type": "code",
   "execution_count": 7,
   "metadata": {
    "collapsed": false
   },
   "outputs": [
    {
     "data": {
      "image/png": "[encoded data removed]",
      "text/plain": [
       "Species(label=\"\", molecule=[Molecule(SMILES=\"C1=CCC2C=CCCC2=C1\")])"
      ]
     },
     "metadata": {},
     "output_type": "display_data"
    },
    {
     "name": "stdout",
     "output_type": "stream",
     "text": [
      "ThermoData(\n",
      "    Tdata = ([300, 400, 500, 600, 800, 1000, 1500], 'K'),\n",
      "    Cpdata = ([158.448, 212.129, 258.069, 295.6, 351.582, 391.037, 449.654], 'J/(mol*K)'),\n",
      "    H298 = (175.657, 'kJ/mol'),\n",
      "    S298 = (397.815, 'J/(mol*K)'),\n",
      "    Cp0 = (33.2579, 'J/(mol*K)'),\n",
      "    CpInf = (532.126, 'J/(mol*K)'),\n",
      "    comment = 'Thermo group additivity estimation: group(Cs-(Cds-Cds)(Cds-Cds)CsH) + other(R) + group(Cs-(Cds-Cds)CsHH) + other(R) + group(Cs-(Cds-Cds)CsHH) + other(R) + group(Cs-(Cds-Cds)CsHH) + other(R) + group(Cds-CdsCsCs) + other(R) + group(Cds-CdsCsH) + other(R) + group(Cds-CdsCsH) + other(R) + group(Cds-CdsCsH) + other(R) + group(Cds-Cds(Cds-Cds)H) + other(R) + group(Cds-Cds(Cds-Cds)H) + other(R) + polycyclic(pdt19-1)',\n",
      ")\n"
     ]
    }
   ],
   "source": [
    "spec1_sib = Species().fromSMILES('C1C=CC2CC=CC=C2C1')\n",
    "spec1_sib.generateResonanceIsomers()\n",
    "display(spec1_sib)\n",
    "print prettify(repr(thermoDatabase.getThermoDataFromGroups(spec1_sib)))"
   ]
  },
  {
   "cell_type": "markdown",
   "metadata": {},
   "source": [
    "`spec1` only matches the most generic polycyclic correction, while its sibling `spec1_sib` in below can find a specific correction. So here is \n",
    "\n",
    "**PROBLEM 1: The correction data in database is not effectively used; it's only used if a exact match is found.**\n",
    "\n",
    "**SOLUTION: re-organize the polycyclic tree to enable RMG to use sibling info.**"
   ]
  },
  {
   "cell_type": "markdown",
   "metadata": {},
   "source": [
    "# Example 3"
   ]
  },
  {
   "cell_type": "code",
   "execution_count": 5,
   "metadata": {
    "collapsed": false
   },
   "outputs": [
    {
     "data": {
      "image/png": "[encoded data removed]",
      "text/plain": [
       "Species(label=\"\", molecule=[Molecule(SMILES=\"CCCCCCCCCCCCC1=CC=CC2C3C=CCC=C3CC12\")])"
      ]
     },
     "metadata": {},
     "output_type": "display_data"
    },
    {
     "name": "stdout",
     "output_type": "stream",
     "text": [
      "ThermoData(\n",
      "    Tdata = ([300, 400, 500, 600, 800, 1000, 1500], 'K'),\n",
      "    Cpdata = ([483.21, 625.675, 749.815, 850.984, 1005.96, 1116.84, 1280.56], 'J/(mol*K)'),\n",
      "    H298 = (-8.24248, 'kJ/mol'),\n",
      "    S298 = (754.613, 'J/(mol*K)'),\n",
      "    Cp0 = (33.2579, 'J/(mol*K)'),\n",
      "    CpInf = (1504.92, 'J/(mol*K)'),\n",
      "    comment = 'Thermo group additivity estimation: group(Cs-(Cds-Cds)CsCsH) + other(R) + group(Cs-(Cds-Cds)CsCsH) + other(R) + group(Cs-(Cds-Cds)(Cds-Cds)CsH) + other(R) + group(Cs-CsCsHH) + other(R) + group(Cs-CsCsHH) + other(R) + group(Cs-CsCsHH) + other(R) + group(Cs-CsCsHH) + other(R) + group(Cs-CsCsHH) + other(R) + group(Cs-CsCsHH) + other(R) + group(Cs-CsCsHH) + other(R) + group(Cs-CsCsHH) + other(R) + group(Cs-CsCsHH) + other(R) + group(Cs-CsCsHH) + other(R) + group(Cs-(Cds-Cds)CsHH) + other(R) + group(Cs-(Cds-Cds)CsHH) + other(R) + group(Cs-(Cds-Cds)(Cds-Cds)HH) + other(R) + group(Cs-CsHHH) + other(R) + group(Cds-CdsCsCs) + other(R) + group(Cds-CdsCsCs) + other(R) + group(Cds-CdsCsH) + other(R) + group(Cds-CdsCsH) + other(R) + group(Cds-CdsCsH) + other(R) + group(Cds-CdsCsH) + other(R) + group(Cds-Cds(Cds-Cds)H) + other(R) + group(Cds-Cds(Cds-Cds)H) + other(R) + polycyclic(C12CCCC1=CCC=C2)',\n",
      ")\n"
     ]
    }
   ],
   "source": [
    "spec2 = Species().fromSMILES('CCCCCCCCCCCCC1=CC=CC2C3C=CCC=C3CC12')\n",
    "spec2.generateResonanceIsomers()\n",
    "display(spec2)\n",
    "print prettify(repr(thermoDatabase.getThermoDataFromGroups(spec2)))"
   ]
  },
  {
   "cell_type": "markdown",
   "metadata": {},
   "source": [
    "`spec2` has a 3-ring polycyclic group, but it partially matches a 2-ring polycyclic correction. We know it probably has very different correction from the actual 3-ring correction. So here is \n",
    "\n",
    "**PROBLEM 2: we don't have enough data in database**\n",
    "\n",
    "**SOLUTION: detect partial match for polycyclic molecules, spawn QM job and enlarge the database. In the meantime, for large molecules, we might also want to develop a heuristic/machine learning way of estimating polycyclic correction.**"
   ]
  },
  {
   "cell_type": "markdown",
   "metadata": {},
   "source": [
    "# Example 4"
   ]
  },
  {
   "cell_type": "markdown",
   "metadata": {},
   "source": [
    "Currently when having new data for polycyclic groups, we simply insert it in L2 as below\n",
    "```python\n",
    "...\n",
    "    L2: INDENE\n",
    "    L2: INDENE-1\n",
    "    L2: 2HINDENE\n",
    "    L2: prod2\n",
    "    L2: prod2-1\n",
    "    L2: prod4\n",
    "    L2: prod4-1\n",
    "    L2: naphthalene\n",
    "    L2: naphthalene-1\n",
    "```\n",
    "**PROBLEM 4** includes two issues:\n",
    "\n",
    "- worsen the problem shown in `Example 2`, if no exact match, return to generic node directly.\n",
    "\n",
    "- hard to figure out what data we are lacking, what we add is just some examples not systematic solution."
   ]
  },
  {
   "cell_type": "markdown",
   "metadata": {},
   "source": [
    "# Potential Contributions to Make\n",
    "\n",
    "- Re-organize the polycyclic tree in a checmically sensible way which helps\n",
    "    \n",
    "    - better use available sibling data when no exact match is found\n",
    "    \n",
    "    - figure out what data is lacking\n",
    "    \n",
    "    - gain insights for generalization\n",
    "    \n",
    "- Provide a scheme to use tree as a building block to best guess for complicated polycyclic ring correction\n",
    "\n",
    "- Automatic workflow to enlarge polycyclic database from identification through QM job to new entry insertion. "
   ]
  },
  {
   "cell_type": "markdown",
   "metadata": {},
   "source": [
    "# Trial Case: Polycyclic s1_3_6\n",
    "\n",
    "This trial case to demonstrate how the workflow looks like. The subject is `Polycyclic s1_3_6`, which is a set of molecules with two rings sharing one common atom (called `spiro`). Part of the reason choosing it is that it's observed in pdd modeling, by fixing it, we can directly test the outcome of this project.\n",
    "\n",
    "This trial case workflow consists of 4 steps:\n",
    "\n",
    "1. Construct polycyclic tree,\n",
    "\n",
    "2. Run representative molecules,\n",
    "\n",
    "3. Extract polycyclic corrections, and\n",
    "\n",
    "4. Fill the corrections into polycyclic tree"
   ]
  },
  {
   "cell_type": "markdown",
   "metadata": {},
   "source": [
    "## Construct thermo tree\n",
    "\n",
    "```python\n",
    "...\n",
    "    L2: s1_3_6\n",
    "        L3: s1_3_6_ane\n",
    "        L3: s1_3_6_ene\n",
    "            L4: s1_3_6_ene_1\n",
    "            L4: s1_3_6_ene_2\n",
    "        L3: s1_3_6_diene\n",
    "            L4: s1_3_6_diene_1_4\n",
    "            L4: s1_3_6_diene_1_3\n",
    "\n",
    "```"
   ]
  },
  {
   "cell_type": "markdown",
   "metadata": {},
   "source": [
    "## Run representative molecules\n",
    "\n",
    "Input: QM input file containing representative molecules' structures\n",
    "\n",
    "Output: a thermo library containing representative molecules' thermochemistry"
   ]
  },
  {
   "cell_type": "markdown",
   "metadata": {},
   "source": [
    "## Extract polycyclic corrections\n",
    "\n",
    "Input: the thermo libray obtained from last step\n",
    "\n",
    "Ouput: polycyclic corrections for molecules in library"
   ]
  },
  {
   "cell_type": "code",
   "execution_count": null,
   "metadata": {
    "collapsed": false
   },
   "outputs": [],
   "source": [
    "import copy\n",
    "from rmgpy.data.thermo import *\n",
    "from utilities.thermo import extractPolycyclicGroups, convertCycleToGroup, displayThermo, compareThermoData\n",
    "\n",
    "thermoLibraries = ['polycyclic_all_thermoLiabrary']\n",
    "database.load(settings['database.directory'], thermoLibraries = thermoLibraries,\\\n",
    "              kineticsFamilies='none', kineticsDepositories='none', reactionLibraries=[])\n",
    "\n",
    "thermoDatabase = database.thermo\n",
    "thermoDatabase0 = copy.deepcopy(database.thermo)"
   ]
  },
  {
   "cell_type": "code",
   "execution_count": null,
   "metadata": {
    "collapsed": false
   },
   "outputs": [],
   "source": [
    "from rmgpy.species import Species\n",
    "libraryName = thermoLibraries[0]\n",
    "thermoLibrary = thermoDatabase.libraries[libraryName]\n",
    "for label, entry in thermoLibrary.entries.iteritems():\n",
    "    molecule = entry.item\n",
    "    libraryMolThermoData = entry.data\n",
    "    \n",
    "    lib_spec = Species(molecule=[molecule])\n",
    "    lib_spec.generateResonanceIsomers()\n",
    "    isomers_num = len(lib_spec.molecule)\n",
    "    \n",
    "    matched_group_idx = 0\n",
    "    isomer_idx = -1\n",
    "    while matched_group_idx == 0 and isomer_idx < (isomers_num - 1):\n",
    "        isomer_idx += 1\n",
    "        molecule = lib_spec.molecule[isomer_idx]\n",
    "        # display(molecule)\n",
    "        if molecule.getAllPolycyclicVertices():\n",
    "            # using currect thermodatabase to estimate the target molecules\n",
    "            estimatedMolThermo = thermoDatabase.estimateThermoViaGroupAdditivity(molecule)\n",
    "            ringGroups, polycyclicGroups = thermoDatabase.getRingGroupsFromComments(estimatedMolThermo)\n",
    "\n",
    "            # representative molecules for polycyclic should not be designed either to have sing-ring structure\n",
    "            # or have more than one polycyclic structures\n",
    "            assert len(ringGroups) == 0 \n",
    "            assert len(polycyclicGroups) == 1\n",
    "            polycyclicGroup = polycyclicGroups[0]\n",
    "            matched_group_idx = polycyclicGroup.index\n",
    "    # if matched_group is still generic (index = 0)\n",
    "    # give a warning\n",
    "    if matched_group_idx == 0:\n",
    "        print \"Warning: {} in library cannot match a specific node in tree, will not use this species!\".format(label)\n",
    "        continue\n",
    "        \n",
    "        \n",
    "    # extract polycyclic correction from library value\n",
    "    withoutPolycyclicGroupThermo = removeThermoData(copy.deepcopy(estimatedMolThermo), polycyclicGroup.data)\n",
    "    newPolycyclicGroupThermo = removeThermoData(copy.deepcopy(libraryMolThermoData), withoutPolycyclicGroupThermo)\n",
    "    # visualize the difference between old and new corrections\n",
    "#         print label\n",
    "#         print \"Old polycyclic correction:\"\n",
    "#         print prettify(repr(polycyclicGroup.data))\n",
    "#         print \"New polycyclic correction:\"\n",
    "#         print prettify(repr(newPolycyclicGroupThermo))\n",
    "\n",
    "    # update polycyclic group thermo and comments\n",
    "    polycyclicGroup.data = newPolycyclicGroupThermo\n",
    "\n",
    "    polycyclicGroup.shortDesc = \"Fitted from thermo library values\"\n",
    "    comment = \"Fitted from molecule {0} from {1} library.\\n\".format(label,libraryName)\n",
    "    polycyclicGroup.longDesc = comment.strip()"
   ]
  },
  {
   "cell_type": "markdown",
   "metadata": {},
   "source": [
    "## Fill corrections into polycyclic tree"
   ]
  },
  {
   "cell_type": "code",
   "execution_count": null,
   "metadata": {
    "collapsed": false
   },
   "outputs": [],
   "source": [
    "for key in thermoDatabase.groups['polycyclic'].entries:\n",
    "    entry = thermoDatabase.groups['polycyclic'].entries[key]\n",
    "    if entry.index == 0  and entry.label != 'PolycyclicRing' and entry.data != None:\n",
    "        print entry.label\n",
    "        entry.data = None"
   ]
  },
  {
   "cell_type": "code",
   "execution_count": null,
   "metadata": {
    "collapsed": false
   },
   "outputs": [],
   "source": [
    "# save the updated polycyclic corrections to file `new_polycyclic.py`; one can overwrite `polycyclic.py` once\n",
    "# double checked it.\n",
    "thermoDatabase.groups['polycyclic'].save(settings['database.directory'] + '/thermo/groups/' + 'new_polycyclic.py')"
   ]
  },
  {
   "cell_type": "markdown",
   "metadata": {},
   "source": [
    "## Benchmark"
   ]
  },
  {
   "cell_type": "code",
   "execution_count": null,
   "metadata": {
    "collapsed": false
   },
   "outputs": [],
   "source": [
    "spec_test = Species().fromSMILES('CCCCCCCCCCC1CC12C=C[CH]C=C2')\n",
    "spec_test.generateResonanceIsomers()\n",
    "display(spec_test)\n",
    "print \"old thermodatabase estimation:\"\n",
    "displayThermo(thermoDatabase0.getThermoDataFromGroups(spec_test))\n",
    "print \"\"\n",
    "print \"new thermodatabase estimation:\"\n",
    "displayThermo(thermoDatabase.getThermoDataFromGroups(spec_test))"
   ]
  },
  {
   "cell_type": "markdown",
   "metadata": {},
   "source": [
    "Mopac calculates thermo for this species as below:\n",
    "```python\n",
    "H298 = (12.75,'kcal/mol'),\n",
    "S298 = (159.93,'cal/mol*K'),\n",
    "```"
   ]
  },
  {
   "cell_type": "markdown",
   "metadata": {},
   "source": [
    "## Generalization"
   ]
  },
  {
   "cell_type": "markdown",
   "metadata": {},
   "source": [
    "### s1 polycyclics"
   ]
  },
  {
   "cell_type": "code",
   "execution_count": null,
   "metadata": {
    "collapsed": false
   },
   "outputs": [],
   "source": [
    "parentNode = thermoDatabase.groups['polycyclic'].entries['s1_3_6']\n",
    "\n",
    "for child in parentNode.children:\n",
    "    if child.data != None:\n",
    "        print \"polycyclic correction for {0}: {1}\".format(child.label, child.data.S298)\n",
    "    else:\n",
    "        if child.children:\n",
    "            for grandchild in child.children:\n",
    "                print \"polycyclic correction for {0}: {1}\".format(grandchild.label, grandchild.data.S298)"
   ]
  },
  {
   "cell_type": "code",
   "execution_count": null,
   "metadata": {
    "collapsed": false
   },
   "outputs": [],
   "source": [
    "ring3a = thermoDatabase.groups['ring'].entries['Cyclopropane']\n",
    "ring3e = thermoDatabase.groups['ring'].entries['Cyclopropene']\n",
    "print \"ring correction for {0}: {1}, {2}\".format(ring3a.label, ring3a.data.H298, ring3a.data.S298)\n",
    "print \"ring correction for {0}: {1}, {2}\".format(ring3e.label, ring3e.data.H298, ring3e.data.S298)"
   ]
  },
  {
   "cell_type": "code",
   "execution_count": null,
   "metadata": {
    "collapsed": false
   },
   "outputs": [],
   "source": [
    "(55.4702)*4.184"
   ]
  },
  {
   "cell_type": "code",
   "execution_count": null,
   "metadata": {
    "collapsed": false
   },
   "outputs": [],
   "source": [
    "ring4a = thermoDatabase.groups['ring'].entries['Cyclobutane']\n",
    "ring4e = thermoDatabase.groups['ring'].entries['Cyclobutene']\n",
    "print \"ring correction for {0}: {1}, {2}\".format(ring4a.label, ring4a.data.H298, ring4a.data.S298)\n",
    "print \"ring correction for {0}: {1}, {2}\".format(ring4e.label, ring4e.data.H298, ring4e.data.S298)"
   ]
  },
  {
   "cell_type": "code",
   "execution_count": null,
   "metadata": {
    "collapsed": false
   },
   "outputs": [],
   "source": [
    "(26.2)*4.184"
   ]
  },
  {
   "cell_type": "markdown",
   "metadata": {},
   "source": [
    "### s2 polycylics"
   ]
  },
  {
   "cell_type": "code",
   "execution_count": null,
   "metadata": {
    "collapsed": false
   },
   "outputs": [],
   "source": [
    "parentNode = thermoDatabase.groups['polycyclic'].entries['s2_4_5']\n",
    "\n",
    "for child in parentNode.children:\n",
    "    if child.data != None:\n",
    "        print \"polycyclic correction for {0}: {1}\".format(child.label, child.data.H298)\n",
    "    else:\n",
    "        if child.children:\n",
    "            for grandchild in child.children:\n",
    "                print \"polycyclic correction for {0}: {1}\".format(grandchild.label, grandchild.data.H298)"
   ]
  },
  {
   "cell_type": "code",
   "execution_count": null,
   "metadata": {
    "collapsed": false
   },
   "outputs": [],
   "source": [
    "ring5a = thermoDatabase.groups['ring'].entries['Cyclopentane']\n",
    "ring5e = thermoDatabase.groups['ring'].entries['Cyclopentene']\n",
    "print \"ring correction for {0}: {1}, {2}\".format(ring5a.label, ring5a.data.H298, ring5a.data.S298)\n",
    "print \"ring correction for {0}: {1}, {2}\".format(ring5e.label, ring5e.data.H298, ring5e.data.S298)"
   ]
  },
  {
   "cell_type": "code",
   "execution_count": null,
   "metadata": {
    "collapsed": false
   },
   "outputs": [],
   "source": [
    "(5.97)*4.184"
   ]
  },
  {
   "cell_type": "markdown",
   "metadata": {},
   "source": [
    "### s3 polycyclics"
   ]
  },
  {
   "cell_type": "code",
   "execution_count": null,
   "metadata": {
    "collapsed": false
   },
   "outputs": [],
   "source": [
    "parentNode = thermoDatabase.groups['polycyclic'].entries['s3_5_6']\n",
    "\n",
    "for child in parentNode.children:\n",
    "    if child.data != None:\n",
    "        print \"polycyclic correction for {0}: {1}\".format(child.label, child.data.H298)\n",
    "    else:\n",
    "        if child.children:\n",
    "            for grandchild in child.children:\n",
    "                print \"polycyclic correction for {0}: {1}\".format(grandchild.label, grandchild.data.H298)"
   ]
  },
  {
   "cell_type": "code",
   "execution_count": null,
   "metadata": {
    "collapsed": false
   },
   "outputs": [],
   "source": [
    "(1.17)*4.184"
   ]
  },
  {
   "cell_type": "code",
   "execution_count": null,
   "metadata": {
    "collapsed": false
   },
   "outputs": [],
   "source": [
    "ring6a = thermoDatabase.groups['ring'].entries['Cyclohexane']\n",
    "ring6e = thermoDatabase.groups['ring'].entries['Cyclohexene']\n",
    "print \"ring correction for {0}: {1}, {2}\".format(ring6a.label, ring6a.data.H298, ring6a.data.S298)\n",
    "print \"ring correction for {0}: {1}, {2}\".format(ring6e.label, ring6e.data.H298, ring6e.data.S298)"
   ]
  },
  {
   "cell_type": "code",
   "execution_count": null,
   "metadata": {
    "collapsed": true
   },
   "outputs": [],
   "source": []
  }
 ],
 "metadata": {
  "kernelspec": {
   "display_name": "Python 2",
   "language": "python",
   "name": "python2"
  },
  "language_info": {
   "codemirror_mode": {
    "name": "ipython",
    "version": 2
   },
   "file_extension": ".py",
   "mimetype": "text/x-python",
   "name": "python",
   "nbconvert_exporter": "python",
   "pygments_lexer": "ipython2",
   "version": "2.7.11"
  }
 },
 "nbformat": 4,
 "nbformat_minor": 0
}
