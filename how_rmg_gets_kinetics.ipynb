{
 "cells": [
  {
   "cell_type": "markdown",
   "metadata": {},
   "source": [
    "# How RMG gets kinetics?\n",
    "\n",
    "Han, Kehang (hkh12@mit.edu)\n",
    "\n",
    "Nov.24, 2015"
   ]
  },
  {
   "cell_type": "markdown",
   "metadata": {},
   "source": [
    "## Motivation\n",
    "This post is trying to understand how RMG gets best kinetics for a reaction with a template. This understanding can be readily used for future inplementation of Evans-Polany Correction and other applications."
   ]
  },
  {
   "cell_type": "code",
   "execution_count": 22,
   "metadata": {
    "collapsed": true
   },
   "outputs": [],
   "source": [
    "%matplotlib inline\n",
    "from rmgpy.rmg.main import RMG, CoreEdgeReactionModel\n",
    "from rmgpy.data.rmg import RMGDatabase, database\n",
    "from rmgpy.data.base import ForbiddenStructureException\n",
    "from rmgpy.molecule import Molecule\n",
    "from rmgpy.species import Species\n",
    "from rmgpy import settings\n",
    "import os"
   ]
  },
  {
   "cell_type": "code",
   "execution_count": 23,
   "metadata": {
    "collapsed": false
   },
   "outputs": [
    {
     "name": "stderr",
     "output_type": "stream",
     "text": [
      "WARNING:root:Should only make one instance of RMGDatabase because it's stored as a module-level variable!\n",
      "WARNING:root:Unexpected behaviour may result!\n"
     ]
    }
   ],
   "source": [
    "# set-up RMG object\n",
    "rmg = RMG()\n",
    "rmg.reactionModel = CoreEdgeReactionModel()\n",
    "\n",
    "# load kinetic database and forbidden structures\n",
    "rmg.database = RMGDatabase()\n",
    "path = os.path.join(settings['database.directory'])\n",
    "\n",
    "# forbidden structure loading\n",
    "database.loadForbiddenStructures(os.path.join(path, 'forbiddenStructures.py'))\n",
    "# kinetics family Disproportionation loading\n",
    "database.loadKinetics(os.path.join(path, 'kinetics'), \\\n",
    "                          kineticsFamilies=['Disproportionation'])"
   ]
  },
  {
   "cell_type": "code",
   "execution_count": 24,
   "metadata": {
    "collapsed": false
   },
   "outputs": [],
   "source": [
    "spcA = Species().fromSMILES(\"C=CC=C\")\n",
    "spcB = Species().fromSMILES(\"C=CCC\")"
   ]
  },
  {
   "cell_type": "code",
   "execution_count": 25,
   "metadata": {
    "collapsed": false
   },
   "outputs": [],
   "source": [
    "newReactions = []\n",
    "newReactions.extend(rmg.reactionModel.react(database, spcA, spcB))"
   ]
  },
  {
   "cell_type": "code",
   "execution_count": 47,
   "metadata": {
    "collapsed": false
   },
   "outputs": [],
   "source": [
    "rmg.reactionModel.kineticsEstimator = 'rate rules'"
   ]
  },
  {
   "cell_type": "markdown",
   "metadata": {},
   "source": [
    "### Top-level of getKineticsForTemplate"
   ]
  },
  {
   "cell_type": "code",
   "execution_count": 64,
   "metadata": {
    "collapsed": false
   },
   "outputs": [
    {
     "data": {
      "text/plain": [
       "ArrheniusEP(A=(4.56e+14,'cm^3/(mol*s)','*|/',1.5), n=-0.7, alpha=0, E0=(0,'kcal/mol'), Tmin=(300,'K'), Tmax=(2500,'K'), comment=\"\"\"Exact match found for rate rule (Cd_pri_rad;Cmethyl_Csrad)\n",
       "Multiplied by reaction path degeneracy 3\"\"\")"
      ]
     },
     "execution_count": 64,
     "metadata": {},
     "output_type": "execute_result"
    }
   ],
   "source": [
    "reaction0 = newReactions[0]\n",
    "template = reaction0.template\n",
    "degeneracy = reaction0.degeneracy\n",
    "estimator = rmg.reactionModel.kineticsEstimator\n",
    "kinetics, entry = reaction0.family.getKineticsForTemplate(template, degeneracy, method=estimator)\n",
    "\n",
    "kinetics"
   ]
  },
  {
   "cell_type": "code",
   "execution_count": 63,
   "metadata": {
    "collapsed": false
   },
   "outputs": [
    {
     "data": {
      "text/plain": [
       "ArrheniusEP(A=(4.56e+14,'cm^3/(mol*s)','*|/',1.5), n=-0.7, alpha=0, E0=(0,'kcal/mol'), Tmin=(300,'K'), Tmax=(2500,'K'), comment=\"\"\"Estimated using template (Cd_pri_rad;Cmethyl_Csrad) for rate rule (Cd_pri_rad;Cmethyl_Csrad/H/Cd)\n",
       "Multiplied by reaction path degeneracy 3\"\"\")"
      ]
     },
     "execution_count": 63,
     "metadata": {},
     "output_type": "execute_result"
    }
   ],
   "source": [
    "reaction0 = newReactions[2]\n",
    "template = reaction0.template\n",
    "degeneracy = reaction0.degeneracy\n",
    "estimator = rmg.reactionModel.kineticsEstimator\n",
    "kinetics, entry = reaction0.family.getKineticsForTemplate(template, degeneracy, method=estimator)\n",
    "\n",
    "kinetics"
   ]
  },
  {
   "cell_type": "code",
   "execution_count": 68,
   "metadata": {
    "collapsed": false
   },
   "outputs": [
    {
     "data": {
      "text/plain": [
       "ArrheniusEP(A=(6e+11,'cm^3/(mol*s)'), n=0, alpha=0, E0=(0,'kcal/mol'), Tmin=(300,'K'), Tmax=(1500,'K'), comment=\"\"\"Estimated using template (Y_rad_birad_trirad_quadrad;XH_Rrad_birad) for rate rule (C_rad/H2/Cs;C/H2/De_Csrad)\n",
       "Multiplied by reaction path degeneracy 2\"\"\")"
      ]
     },
     "execution_count": 68,
     "metadata": {},
     "output_type": "execute_result"
    }
   ],
   "source": [
    "reaction0 = newReactions[6]\n",
    "template = reaction0.template\n",
    "degeneracy = reaction0.degeneracy\n",
    "estimator = rmg.reactionModel.kineticsEstimator\n",
    "kinetics, entry = reaction0.family.getKineticsForTemplate(template, degeneracy, method=estimator)\n",
    "\n",
    "kinetics"
   ]
  },
  {
   "cell_type": "markdown",
   "metadata": {},
   "source": [
    "## Detailed level of getKineticsForTemplate\n",
    "we got three different cases for kinetics determination:\n",
    "\n",
    "- Exact match found (reaction0)\n",
    "\n",
    "- Estimated using an average\n",
    "\n",
    "- Using a more general node to estimate original template (reaction2)\n",
    "\n",
    "- found one or more results (create one!)"
   ]
  },
  {
   "cell_type": "code",
   "execution_count": 54,
   "metadata": {
    "collapsed": true
   },
   "outputs": [],
   "source": [
    "rules = reaction0.family.rules"
   ]
  },
  {
   "cell_type": "code",
   "execution_count": 57,
   "metadata": {
    "collapsed": false
   },
   "outputs": [],
   "source": [
    "entry = rules.getRule(template)"
   ]
  },
  {
   "cell_type": "code",
   "execution_count": 60,
   "metadata": {
    "collapsed": false
   },
   "outputs": [
    {
     "data": {
      "text/plain": [
       "''"
      ]
     },
     "execution_count": 60,
     "metadata": {},
     "output_type": "execute_result"
    }
   ],
   "source": [
    "entry.data.comment"
   ]
  }
 ],
 "metadata": {
  "kernelspec": {
   "display_name": "Python 2",
   "language": "python",
   "name": "python2"
  },
  "language_info": {
   "codemirror_mode": {
    "name": "ipython",
    "version": 2
   },
   "file_extension": ".py",
   "mimetype": "text/x-python",
   "name": "python",
   "nbconvert_exporter": "python",
   "pygments_lexer": "ipython2",
   "version": "2.7.10"
  }
 },
 "nbformat": 4,
 "nbformat_minor": 0
}
