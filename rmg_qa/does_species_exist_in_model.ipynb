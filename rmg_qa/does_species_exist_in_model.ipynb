{
 "cells": [
  {
   "cell_type": "markdown",
   "metadata": {},
   "source": [
    "# Does the Species Exist in a Given Model\n",
    "\n",
    "This ipynb serves as a starting point of RMG Question-Answering System by answering the question of `does the species exist in a given model?`.\n",
    "\n",
    "- Input: \n",
    "    - mechanism with chem.inp and species_dictionary.txt\n",
    "    \n",
    "    - species of your interest\n",
    "- Output:\n",
    "    - yes or no\n",
    "    \n",
    "    - the reactions associated with the species if yes, none if no."
   ]
  },
  {
   "cell_type": "code",
   "execution_count": 1,
   "metadata": {
    "collapsed": true
   },
   "outputs": [],
   "source": [
    "species_target = 'C=CCC[CH]CCCCCC'"
   ]
  },
  {
   "cell_type": "code",
   "execution_count": 2,
   "metadata": {
    "collapsed": false
   },
   "outputs": [],
   "source": [
    "# load model into memory\n",
    "from rmgpy.chemkin import loadChemkinFile\n",
    "from rmgpy.molecule.molecule import Molecule\n",
    "\n",
    "path = 'data/PDD_DEDS_merge_add17/'\n",
    "chemkinPath= path + 'chem.inp'\n",
    "dictionaryPath = path + 'species_dictionary.txt'\n",
    "species_list, reactions_list = loadChemkinFile(chemkinPath, dictionaryPath, readComments = False)"
   ]
  },
  {
   "cell_type": "code",
   "execution_count": 3,
   "metadata": {
    "collapsed": false
   },
   "outputs": [
    {
     "name": "stdout",
     "output_type": "stream",
     "text": [
      "<Molecule \"C=CCC[CH]CCCCCC\"> is found in model with spc name HKH12(339)\n"
     ]
    }
   ],
   "source": [
    "# search the target species in model\n",
    "mol_tgt = Molecule().fromSMILES(species_target)\n",
    "\n",
    "for spc in species_list:\n",
    "    if spc.isIsomorphic(mol_tgt):\n",
    "        print '{} is found in model with spc name {}'.format(mol_tgt, spc)"
   ]
  },
  {
   "cell_type": "markdown",
   "metadata": {},
   "source": [
    "Next steps:\n",
    "\n",
    "- render reactions associated with the target species\n",
    "\n",
    "- accept target species input in more types, e.g., chemical name, InChI"
   ]
  }
 ],
 "metadata": {
  "kernelspec": {
   "display_name": "Python 2",
   "language": "python",
   "name": "python2"
  },
  "language_info": {
   "codemirror_mode": {
    "name": "ipython",
    "version": 2
   },
   "file_extension": ".py",
   "mimetype": "text/x-python",
   "name": "python",
   "nbconvert_exporter": "python",
   "pygments_lexer": "ipython2",
   "version": "2.7.10"
  }
 },
 "nbformat": 4,
 "nbformat_minor": 0
}
