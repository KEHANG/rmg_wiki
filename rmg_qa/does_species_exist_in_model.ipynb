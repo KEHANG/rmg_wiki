{
 "cells": [
  {
   "cell_type": "markdown",
   "metadata": {},
   "source": [
    "# Does the Species Exist in a Given Model\n",
    "\n",
    "This ipynb serves as a starting point of RMG Question-Answering System by answering the question of `does the species exist in a given model?`.\n",
    "\n",
    "- Input: \n",
    "    - mechanism with chem.inp and species_dictionary.txt\n",
    "    \n",
    "    - species of your interest\n",
    "- Output:\n",
    "    - yes or no\n",
    "    \n",
    "    - the reactions associated with the species if yes, none if no."
   ]
  },
  {
   "cell_type": "markdown",
   "metadata": {},
   "source": [
    "## first situation: when you know structure (e.g., SMILES) of the species"
   ]
  },
  {
   "cell_type": "code",
   "execution_count": 40,
   "metadata": {
    "collapsed": true
   },
   "outputs": [],
   "source": [
    "species_target = 'C=CCC[CH]CCCCCC'"
   ]
  },
  {
   "cell_type": "code",
   "execution_count": 41,
   "metadata": {
    "collapsed": false
   },
   "outputs": [],
   "source": [
    "# load model into memory\n",
    "from rmgpy.chemkin import loadChemkinFile\n",
    "from rmgpy.molecule.molecule import Molecule\n",
    "\n",
    "path = 'data/PDD_DEDS_merge_add17/'\n",
    "chemkinPath= path + 'chem.inp'\n",
    "dictionaryPath = path + 'species_dictionary.txt'\n",
    "species_list, reactions_list = loadChemkinFile(chemkinPath, dictionaryPath, readComments = False)"
   ]
  },
  {
   "cell_type": "code",
   "execution_count": 42,
   "metadata": {
    "collapsed": false
   },
   "outputs": [
    {
     "name": "stdout",
     "output_type": "stream",
     "text": [
      "<Molecule \"C=CCC[CH]CCCCCC\"> is found in model with spc name HKH12(339)\n"
     ]
    }
   ],
   "source": [
    "# search the target species in model\n",
    "mol_tgt = Molecule().fromSMILES(species_target)\n",
    "\n",
    "for spc in species_list:\n",
    "    if spc.isIsomorphic(mol_tgt):\n",
    "        print '{} is found in model with spc name {}'.format(mol_tgt, spc)"
   ]
  },
  {
   "cell_type": "markdown",
   "metadata": {},
   "source": [
    "## A second situation: when you know the label/index of species"
   ]
  },
  {
   "cell_type": "code",
   "execution_count": 43,
   "metadata": {
    "collapsed": true
   },
   "outputs": [],
   "source": [
    "target_spc_index = 34\n",
    "target_spc_label = 'C8H8'"
   ]
  },
  {
   "cell_type": "code",
   "execution_count": 44,
   "metadata": {
    "collapsed": false
   },
   "outputs": [
    {
     "name": "stdout",
     "output_type": "stream",
     "text": [
      "The spcies with index 34 is displayed below:\n"
     ]
    },
    {
     "data": {
      "image/png": "[encoded data removed]",
      "text/plain": [
       "Species(index=34, label=\"SPC(108)\", thermo=NASA(polynomials=[NASAPolynomial(coeffs=[2.81979,0.0769245,-6.85275e-05,2.74564e-08,-2.99891e-12,-34081.6,16.4068], Tmin=(250,'K'), Tmax=(995,'K')), NASAPolynomial(coeffs=[20.1051,0.0219229,-7.44859e-06,1.16319e-09,-6.83102e-14,-38238.6,-70.5023], Tmin=(995,'K'), Tmax=(5000,'K'))], Tmin=(250,'K'), Tmax=(5000,'K'), comment=\"\"\"\n",
       "\n",
       "\n",
       "\n",
       "\n",
       "\n",
       "\n",
       "\n",
       "\n",
       "\n",
       "\n",
       "\n",
       "\n",
       "\n",
       "Estimated by RMG using Group Additivity\n",
       "\n",
       "\n",
       "\n",
       "\n",
       "\n",
       "\n",
       "\n",
       "\n",
       "\n",
       "\n",
       "\n",
       "\n",
       "\n",
       "\"\"\"), molecule=[Molecule(SMILES=\"CCSSC(C)O\")])"
      ]
     },
     "metadata": {},
     "output_type": "display_data"
    },
    {
     "name": "stdout",
     "output_type": "stream",
     "text": [
      "And its SMILES is CCSSC(C)O.\n",
      "The spcies with label C8H8 is displayed below:\n"
     ]
    },
    {
     "data": {
      "image/png": "[encoded data removed]",
      "text/plain": [
       "Species(index=9, label=\"C8H8\", thermo=NASA(polynomials=[NASAPolynomial(coeffs=[3.03145,0.0221443,8.26468e-05,-1.18229e-07,4.46575e-11,15322.8,14.9055], Tmin=(250,'K'), Tmax=(995,'K')), NASAPolynomial(coeffs=[16.8023,0.0247,-8.50912e-06,1.33694e-09,-7.86394e-14,9715.2,-65.8692], Tmin=(995,'K'), Tmax=(5000,'K'))], Tmin=(250,'K'), Tmax=(5000,'K'), comment=\"\"\"\n",
       "\n",
       "\n",
       "\n",
       "\n",
       "\n",
       "\n",
       "\n",
       "\n",
       "\n",
       "\n",
       "\n",
       "\n",
       "\n",
       "Estimated by RMG using Group Additivity\n",
       "Group:Cds-CdsCbH, Group:Cds-CdsHH, Group:Cb-(Cds-Cds), Group:Cb-H, Group:Cb-H, Group:\n",
       "Cb-H, Group:Cb-H, Group:Cb-H, !Ring:Ring\n",
       "\n",
       "\n",
       "\n",
       "\n",
       "\n",
       "\n",
       "\n",
       "\n",
       "\n",
       "\n",
       "\n",
       "\n",
       "\n",
       "\"\"\"), molecule=[Molecule(SMILES=\"C=CC1C=CC=CC=1\"), Molecule(SMILES=\"C=Cc1ccccc1\")])"
      ]
     },
     "metadata": {},
     "output_type": "display_data"
    },
    {
     "name": "stdout",
     "output_type": "stream",
     "text": [
      "And its SMILES is C=CC1C=CC=CC=1.\n"
     ]
    }
   ],
   "source": [
    "from IPython.display import display\n",
    "for spc in species_list:\n",
    "    if spc.index == target_spc_index:\n",
    "        print \"The spcies with index {} is displayed below:\".format(target_spc_index)\n",
    "        display(spc)\n",
    "        print \"And its SMILES is {}.\".format(spc.molecule[0].toSMILES())\n",
    "        break\n",
    "else:\n",
    "    print \"Cound not find species with index {}.\".format(target_spc_index)\n",
    "\n",
    "for spc in species_list:\n",
    "    if spc.label == target_spc_label:\n",
    "        print \"The spcies with label {} is displayed below:\".format(target_spc_label)\n",
    "        display(spc)\n",
    "        print \"And its SMILES is {}.\".format(spc.molecule[0].toSMILES())\n",
    "        break\n",
    "else:\n",
    "    print \"Cound not find species with label {}.\".format(target_spc_label)"
   ]
  },
  {
   "cell_type": "markdown",
   "metadata": {},
   "source": [
    "Next steps:\n",
    "\n",
    "- render reactions associated with the target species\n",
    "\n",
    "- accept target species input in more types, e.g., chemical name, InChI"
   ]
  }
 ],
 "metadata": {
  "kernelspec": {
   "display_name": "Python 2",
   "language": "python",
   "name": "python2"
  },
  "language_info": {
   "codemirror_mode": {
    "name": "ipython",
    "version": 2
   },
   "file_extension": ".py",
   "mimetype": "text/x-python",
   "name": "python",
   "nbconvert_exporter": "python",
   "pygments_lexer": "ipython2",
   "version": "2.7.10"
  }
 },
 "nbformat": 4,
 "nbformat_minor": 0
}
