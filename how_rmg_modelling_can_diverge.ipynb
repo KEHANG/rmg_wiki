{
 "cells": [
  {
   "cell_type": "markdown",
   "metadata": {},
   "source": [
    "# How RMG modelling can diverge?\n",
    "\n",
    "Han, Kehang (hkh12@mit.edu)\n",
    "\n",
    "Nov.16, 2015"
   ]
  },
  {
   "cell_type": "markdown",
   "metadata": {},
   "source": [
    "## Introduction\n",
    "\n",
    "During new feature development in RMG, we've been observing several times thatn same intermediate models (when RMG jobs are still running) give different simulation results, such as selecting different next core species, stopping at different conversions.\n",
    "\n",
    "This short post tends to give a possible situation that lead to the above symptom."
   ]
  },
  {
   "cell_type": "markdown",
   "metadata": {},
   "source": [
    "## Situation 1 description\n",
    "\n",
    "Suppose we have two molecule (graph) sorting algorithm as at certain RMG development point, one is `sortAtoms` the other is `sortVertices`. They will give two different sorting results.\n",
    "\n",
    "- Molecule atoms sorted by two algorithms\n",
    "\n",
    "- Adjlists for the same molecule would be different because of different sorting results\n",
    "\n",
    "- Mapping between reactant and reaction family template reactant would be different\n",
    "\n",
    "- From the post `How RMG generates templates?` the mapping order matters for the final kinetics choice, so kinetics would be different although reactions are still same\n",
    "\n",
    "- Give different kinetic simulation results\n",
    "\n",
    "Currently `master` doesn't have two different sorting algorithm, so the divergence won't be caused by this situation. But since there was one point when `master` has both, the divergence is observable.\n",
    "\n",
    "**Lesson learned**: always using the same sorting algorithm for `matchReactantToTemplate` or at least if you have to have two sorting algorithms, don't give both the right of changing `sortingLabel` (otherwise, one sorting algorithm can deactivate the other since sorting is implemented based on `sortingLabel`)"
   ]
  },
  {
   "cell_type": "markdown",
   "metadata": {},
   "source": [
    "## More situations\n",
    "Hope people could record more situations and append here."
   ]
  }
 ],
 "metadata": {
  "kernelspec": {
   "display_name": "Python 2",
   "language": "python",
   "name": "python2"
  },
  "language_info": {
   "codemirror_mode": {
    "name": "ipython",
    "version": 2
   },
   "file_extension": ".py",
   "mimetype": "text/x-python",
   "name": "python",
   "nbconvert_exporter": "python",
   "pygments_lexer": "ipython2",
   "version": "2.7.10"
  }
 },
 "nbformat": 4,
 "nbformat_minor": 0
}
