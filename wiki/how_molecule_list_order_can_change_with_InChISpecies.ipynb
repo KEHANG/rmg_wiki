{
 "cells": [
  {
   "cell_type": "code",
   "execution_count": 8,
   "metadata": {
    "collapsed": true
   },
   "outputs": [],
   "source": [
    "from rmgpy.rmg.model import Species, InChISpecies\n",
    "from rmgpy.molecule import Molecule"
   ]
  },
  {
   "cell_type": "code",
   "execution_count": 16,
   "metadata": {
    "collapsed": false
   },
   "outputs": [
    {
     "name": "stdout",
     "output_type": "stream",
     "text": [
      "C=[C]C=O\n",
      "multiplicity 2\n",
      "1 O u0 p2 c0 {2,D}\n",
      "2 C u0 p0 c0 {1,D} {3,S} {5,S}\n",
      "3 C u1 p0 c0 {2,S} {4,D}\n",
      "4 C u0 p0 c0 {3,D} {6,S} {7,S}\n",
      "5 H u0 p0 c0 {2,S}\n",
      "6 H u0 p0 c0 {4,S}\n",
      "7 H u0 p0 c0 {4,S}\n",
      "\n"
     ]
    }
   ],
   "source": [
    "spc_709 = Species().fromSMILES(\"O=C[C]=C\")\n",
    "print spc_709.molecule[0].toSMILES()\n",
    "print spc_709.molecule[0].toAdjacencyList()"
   ]
  },
  {
   "cell_type": "code",
   "execution_count": 5,
   "metadata": {
    "collapsed": true
   },
   "outputs": [],
   "source": [
    "ispc_709 = InChISpecies(spc_709)"
   ]
  },
  {
   "cell_type": "code",
   "execution_count": 17,
   "metadata": {
    "collapsed": false
   },
   "outputs": [
    {
     "name": "stdout",
     "output_type": "stream",
     "text": [
      "C=C=C[O]\n",
      "multiplicity 2\n",
      "1 C u0 p0 c0 {2,D} {5,S} {6,S}\n",
      "2 C u0 p0 c0 {1,D} {3,D}\n",
      "3 C u0 p0 c0 {2,D} {4,S} {7,S}\n",
      "4 O u1 p2 c0 {3,S}\n",
      "5 H u0 p0 c0 {1,S}\n",
      "6 H u0 p0 c0 {1,S}\n",
      "7 H u0 p0 c0 {3,S}\n",
      "\n"
     ]
    }
   ],
   "source": [
    "spc_709_new = Species(molecule=[Molecule().fromAugmentedInChI(ispc_709.getAugmentedInChI())])\n",
    "print spc_709_new.molecule[0].toSMILES()\n",
    "print spc_709_new.molecule[0].toAdjacencyList()"
   ]
  }
 ],
 "metadata": {
  "kernelspec": {
   "display_name": "Python 2",
   "language": "python",
   "name": "python2"
  },
  "language_info": {
   "codemirror_mode": {
    "name": "ipython",
    "version": 2
   },
   "file_extension": ".py",
   "mimetype": "text/x-python",
   "name": "python",
   "nbconvert_exporter": "python",
   "pygments_lexer": "ipython2",
   "version": "2.7.10"
  }
 },
 "nbformat": 4,
 "nbformat_minor": 0
}
