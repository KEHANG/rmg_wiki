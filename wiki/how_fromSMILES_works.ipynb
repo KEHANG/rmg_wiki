{
 "cells": [
  {
   "cell_type": "code",
   "execution_count": 30,
   "metadata": {
    "collapsed": true
   },
   "outputs": [],
   "source": [
    "from rmgpy.molecule import Molecule\n",
    "from rmgpy.rmg.model import Species\n",
    "from rmgpy.molecule.parser import fromSMILES"
   ]
  },
  {
   "cell_type": "code",
   "execution_count": 5,
   "metadata": {
    "collapsed": true
   },
   "outputs": [],
   "source": [
    "molA = fromSMILES(Molecule(), \"C=CC=C\", 'openbabel')"
   ]
  },
  {
   "cell_type": "code",
   "execution_count": 6,
   "metadata": {
    "collapsed": false
   },
   "outputs": [
    {
     "name": "stdout",
     "output_type": "stream",
     "text": [
      "1  C u0 p0 c0 {2,S} {3,D} {5,S}\n",
      "2  C u0 p0 c0 {1,S} {4,D} {6,S}\n",
      "3  C u0 p0 c0 {1,D} {7,S} {8,S}\n",
      "4  C u0 p0 c0 {2,D} {9,S} {10,S}\n",
      "5  H u0 p0 c0 {1,S}\n",
      "6  H u0 p0 c0 {2,S}\n",
      "7  H u0 p0 c0 {3,S}\n",
      "8  H u0 p0 c0 {3,S}\n",
      "9  H u0 p0 c0 {4,S}\n",
      "10 H u0 p0 c0 {4,S}\n",
      "\n"
     ]
    }
   ],
   "source": [
    "print molA.toAdjacencyList()"
   ]
  },
  {
   "cell_type": "code",
   "execution_count": 29,
   "metadata": {
    "collapsed": false
   },
   "outputs": [
    {
     "name": "stdout",
     "output_type": "stream",
     "text": [
      "1  C u0 p0 c0 {2,D} {5,S} {6,S}\n",
      "2  C u0 p0 c0 {1,D} {4,S} {7,S}\n",
      "3  C u0 p0 c0 {4,S} {8,S} {9,S} {10,S}\n",
      "4  C u0 p0 c0 {2,S} {3,S} {11,S} {12,S}\n",
      "5  H u0 p0 c0 {1,S}\n",
      "6  H u0 p0 c0 {1,S}\n",
      "7  H u0 p0 c0 {2,S}\n",
      "8  H u0 p0 c0 {3,S}\n",
      "9  H u0 p0 c0 {3,S}\n",
      "10 H u0 p0 c0 {3,S}\n",
      "11 H u0 p0 c0 {4,S}\n",
      "12 H u0 p0 c0 {4,S}\n",
      "\n",
      "1  C u0 p0 c0 {2,D} {5,S} {6,S}\n",
      "2  C u0 p0 c0 {1,D} {4,S} {7,S}\n",
      "3  C u0 p0 c0 {4,S} {8,S} {9,S} {10,S}\n",
      "4  C u0 p0 c0 {2,S} {3,S} {11,S} {12,S}\n",
      "5  H u0 p0 c0 {1,S}\n",
      "6  H u0 p0 c0 {1,S}\n",
      "7  H u0 p0 c0 {2,S}\n",
      "8  H u0 p0 c0 {3,S}\n",
      "9  H u0 p0 c0 {3,S}\n",
      "10 H u0 p0 c0 {3,S}\n",
      "11 H u0 p0 c0 {4,S}\n",
      "12 H u0 p0 c0 {4,S}\n",
      "\n"
     ]
    }
   ],
   "source": [
    "adj_cs = \"\"\"\n",
    "1  C u0 p0 c0 {2,D} {5,S} {6,S}\n",
    "2  C u0 p0 c0 {1,D} {4,S} {7,S}\n",
    "3  C u0 p0 c0 {4,S} {8,S} {9,S} {10,S}\n",
    "4  C u0 p0 c0 {2,S} {3,S} {11,S} {12,S}\n",
    "5  H u0 p0 c0 {1,S}\n",
    "6  H u0 p0 c0 {1,S}\n",
    "7  H u0 p0 c0 {2,S}\n",
    "8  H u0 p0 c0 {3,S}\n",
    "9  H u0 p0 c0 {3,S}\n",
    "10 H u0 p0 c0 {3,S}\n",
    "11 H u0 p0 c0 {4,S}\n",
    "12 H u0 p0 c0 {4,S}\n",
    "    \"\"\"\n",
    "\n",
    "cs = Species().fromAdjacencyList(adj_cs)\n",
    "print cs.toAdjacencyList()\n",
    "cs_mol = cs.molecule[0]\n",
    "cs.molecule[0].sortAtoms()\n",
    "print cs.toAdjacencyList()"
   ]
  },
  {
   "cell_type": "code",
   "execution_count": 27,
   "metadata": {
    "collapsed": false
   },
   "outputs": [
    {
     "name": "stdout",
     "output_type": "stream",
     "text": [
      "1  C u0 p0 c0 {3,D} {5,S} {6,S}\n",
      "2  C u0 p0 c0 {4,D} {7,S} {8,S}\n",
      "3  C u0 p0 c0 {1,D} {4,S} {9,S}\n",
      "4  C u0 p0 c0 {2,D} {3,S} {10,S}\n",
      "5  H u0 p0 c0 {1,S}\n",
      "6  H u0 p0 c0 {1,S}\n",
      "7  H u0 p0 c0 {2,S}\n",
      "8  H u0 p0 c0 {2,S}\n",
      "9  H u0 p0 c0 {3,S}\n",
      "10 H u0 p0 c0 {4,S}\n",
      "\n"
     ]
    }
   ],
   "source": [
    "adj_ns = \"\"\"\n",
    "1  C u0 p0 c0 {3,D} {5,S} {6,S}\n",
    "2  C u0 p0 c0 {4,D} {7,S} {8,S}\n",
    "3  C u0 p0 c0 {1,D} {4,S} {9,S}\n",
    "4  C u0 p0 c0 {2,D} {3,S} {10,S}\n",
    "5  H u0 p0 c0 {1,S}\n",
    "6  H u0 p0 c0 {1,S}\n",
    "7  H u0 p0 c0 {2,S}\n",
    "8  H u0 p0 c0 {2,S}\n",
    "9  H u0 p0 c0 {3,S}\n",
    "10 H u0 p0 c0 {4,S}\n",
    "    \"\"\"\n",
    "\n",
    "ns = Molecule().fromAdjacencyList(adj_ns)\n",
    "ns.sortAtoms()\n",
    "print ns.toAdjacencyList()"
   ]
  },
  {
   "cell_type": "code",
   "execution_count": null,
   "metadata": {
    "collapsed": true
   },
   "outputs": [],
   "source": []
  }
 ],
 "metadata": {
  "kernelspec": {
   "display_name": "Python 2",
   "language": "python",
   "name": "python2"
  },
  "language_info": {
   "codemirror_mode": {
    "name": "ipython",
    "version": 2
   },
   "file_extension": ".py",
   "mimetype": "text/x-python",
   "name": "python",
   "nbconvert_exporter": "python",
   "pygments_lexer": "ipython2",
   "version": "2.7.10"
  }
 },
 "nbformat": 4,
 "nbformat_minor": 0
}
