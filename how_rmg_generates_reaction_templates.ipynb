{
 "cells": [
  {
   "cell_type": "markdown",
   "metadata": {},
   "source": [
    "# How RMG generates reaction templates?\n",
    "\n",
    "Han, Kehang (hkh12@mit.edu) \n",
    "\n",
    "Nov.10, 2015"
   ]
  },
  {
   "cell_type": "markdown",
   "metadata": {},
   "source": [
    "## Motivation\n",
    "The reason I want to make it clear about this functionality is the newly-developed branch `edge_inchi_rxn` produces almost same models as `master` branch does except some divergence which is caused by different kinects for same reactions estimated by RMG. Further investigation shows the different kinetics are stemmed from different reaction templates matched. Therefore, a full understanding of how RMG generates reation templates will efinately help solve the discrepancy between the models from `edhe_inchi_rxn` and those from `master`."
   ]
  },
  {
   "cell_type": "markdown",
   "metadata": {},
   "source": [
    "## Set-up\n",
    "Before investigating, several pre-steps should be set-up.\n",
    "\n",
    "- import all the necessary modules\n",
    "\n",
    "- create RMG object and load database needed\n",
    "\n",
    "- create two reactants for reacting research"
   ]
  },
  {
   "cell_type": "code",
   "execution_count": 23,
   "metadata": {
    "collapsed": false
   },
   "outputs": [],
   "source": [
    "from rmgpy.rmg.main import RMG, CoreEdgeReactionModel\n",
    "from rmgpy.data.rmg import RMGDatabase, database\n",
    "from rmgpy.data.base import ForbiddenStructureException\n",
    "from rmgpy.molecule import Molecule\n",
    "from rmgpy.species import Species\n",
    "import os"
   ]
  },
  {
   "cell_type": "code",
   "execution_count": 24,
   "metadata": {
    "collapsed": false
   },
   "outputs": [
    {
     "name": "stderr",
     "output_type": "stream",
     "text": [
      "WARNING:root:Should only make one instance of RMGDatabase because it's stored as a module-level variable!\n",
      "WARNING:root:Unexpected behaviour may result!\n"
     ]
    },
    {
     "name": "stdout",
     "output_type": "stream",
     "text": [
      "Path is: /home/kehang/Code/rmgmaster/RMG-database/input\n",
      "loading forbidden structures...\n",
      "loading kinetics families...\n"
     ]
    }
   ],
   "source": [
    "# set-up RMG object\n",
    "rmg = RMG()\n",
    "rmg.reactionModel = CoreEdgeReactionModel()\n",
    "\n",
    "# load kinetic database and forbidden structures\n",
    "rmg.database = RMGDatabase()\n",
    "home_path = os.getenv('HOME')\n",
    "path = os.path.join(home_path, 'Code', 'rmgmaster', 'RMG-database', 'input')\n",
    "print 'Path is:', path\n",
    "\n",
    "print(\"loading forbidden structures...\")\n",
    "rmg.database.loadForbiddenStructures(os.path.join(path, 'forbiddenStructures.py'))\n",
    "\n",
    "print(\"loading kinetics families...\")\n",
    "rmg.database.loadKinetics(os.path.join(path, 'kinetics'), \\\n",
    "                          kineticsFamilies=['Disproportionation'])"
   ]
  },
  {
   "cell_type": "code",
   "execution_count": 25,
   "metadata": {
    "collapsed": false
   },
   "outputs": [
    {
     "name": "stdout",
     "output_type": "stream",
     "text": [
      "1  C u0 p0 c0 {2,S} {3,D} {5,S}\n",
      "2  C u0 p0 c0 {1,S} {4,D} {6,S}\n",
      "3  C u0 p0 c0 {1,D} {7,S} {8,S}\n",
      "4  C u0 p0 c0 {2,D} {9,S} {10,S}\n",
      "5  H u0 p0 c0 {1,S}\n",
      "6  H u0 p0 c0 {2,S}\n",
      "7  H u0 p0 c0 {3,S}\n",
      "8  H u0 p0 c0 {3,S}\n",
      "9  H u0 p0 c0 {4,S}\n",
      "10 H u0 p0 c0 {4,S}\n",
      "\n"
     ]
    }
   ],
   "source": [
    "# create reactants (molecules): C=CC=C and C=CCC\n",
    "molA = Molecule().fromSMILES(\"C=CC=C\")\n",
    "molB = Molecule().fromSMILES(\"C=CCC\")\n",
    "reactants = [molA, molB]\n",
    "print molA.toAdjacencyList()"
   ]
  },
  {
   "cell_type": "markdown",
   "metadata": {},
   "source": [
    "## Make reactions\n",
    "The reaction-making step into five sub-steps,\n",
    "\n",
    "- pick the reaction family interested\n",
    "\n",
    "- match reactants to the family_template's reactants\n",
    "\n",
    "- create products based on the mapping\n",
    "\n",
    "- remove duplicated reactions\n",
    "\n",
    "- generate kinetics template (rate rule) for ther reaction\n",
    "\n",
    "As you will see, the final kinetics template is actually determined in the second sub-step: the first one of all mappings that lead to same reactions will win because of duplicates removal. "
   ]
  },
  {
   "cell_type": "markdown",
   "metadata": {},
   "source": [
    "### Pick reaction family"
   ]
  },
  {
   "cell_type": "code",
   "execution_count": 26,
   "metadata": {
    "collapsed": false
   },
   "outputs": [],
   "source": [
    "# pick out the reacting family\n",
    "families = rmg.database.kinetics.families\n",
    "disprop_family = families['Disproportionation']"
   ]
  },
  {
   "cell_type": "markdown",
   "metadata": {},
   "source": [
    "### Map reactants to template reactants"
   ]
  },
  {
   "cell_type": "code",
   "execution_count": 27,
   "metadata": {
    "collapsed": false
   },
   "outputs": [],
   "source": [
    "# map reactants to the reacting family's template reactants\n",
    "family_template = disprop_family.reverseTemplate\n",
    "mappingsA = disprop_family.\\\n",
    "_KineticsFamily__matchReactantToTemplate(molA, family_template.reactants[1])\n",
    "mappingsB = disprop_family.\\\n",
    "_KineticsFamily__matchReactantToTemplate(molB, family_template.reactants[0])"
   ]
  },
  {
   "cell_type": "markdown",
   "metadata": {},
   "source": [
    "At this points, atoms are not labeled, as we can see molA in below."
   ]
  },
  {
   "cell_type": "code",
   "execution_count": 28,
   "metadata": {
    "collapsed": false
   },
   "outputs": [
    {
     "name": "stdout",
     "output_type": "stream",
     "text": [
      "1  C u0 p0 c0 {2,S} {3,D} {5,S}\n",
      "2  C u0 p0 c0 {1,S} {4,D} {6,S}\n",
      "3  C u0 p0 c0 {1,D} {7,S} {8,S}\n",
      "4  C u0 p0 c0 {2,D} {9,S} {10,S}\n",
      "5  H u0 p0 c0 {1,S}\n",
      "6  H u0 p0 c0 {2,S}\n",
      "7  H u0 p0 c0 {3,S}\n",
      "8  H u0 p0 c0 {3,S}\n",
      "9  H u0 p0 c0 {4,S}\n",
      "10 H u0 p0 c0 {4,S}\n",
      "\n"
     ]
    }
   ],
   "source": [
    "print molA.toAdjacencyList()"
   ]
  },
  {
   "cell_type": "markdown",
   "metadata": {},
   "source": [
    "After using the first mapping for molA, `*2` is assigned to the terminal carbon, which is **from** the carbon losing one `H` atom. This mapping leads molA (`C=CC=C`) to pair with `[CH2]CC=C`."
   ]
  },
  {
   "cell_type": "code",
   "execution_count": 29,
   "metadata": {
    "collapsed": false
   },
   "outputs": [
    {
     "name": "stdout",
     "output_type": "stream",
     "text": [
      "molA with first mapping: \n",
      "1  *2 C u0 p0 c0 {2,S} {3,D} {5,S}\n",
      "2     C u0 p0 c0 {1,S} {4,D} {6,S}\n",
      "3  *3 C u0 p0 c0 {1,D} {7,S} {8,S}\n",
      "4     C u0 p0 c0 {2,D} {9,S} {10,S}\n",
      "5     H u0 p0 c0 {1,S}\n",
      "6     H u0 p0 c0 {2,S}\n",
      "7     H u0 p0 c0 {3,S}\n",
      "8     H u0 p0 c0 {3,S}\n",
      "9     H u0 p0 c0 {4,S}\n",
      "10    H u0 p0 c0 {4,S}\n",
      "\n"
     ]
    }
   ],
   "source": [
    "# assign the labels to atoms based on first mapping\n",
    "mapA = mappingsA[0]\n",
    "molA.clearLabeledAtoms()\n",
    "for atom, templateAtom in mapA.iteritems():\n",
    "    atom.label = templateAtom.label\n",
    "\n",
    "print \"molA with first mapping: \\n\" + str(molA.toAdjacencyList())"
   ]
  },
  {
   "cell_type": "markdown",
   "metadata": {},
   "source": [
    "After using the 3rd mapping for molA, `*2` is assigned to the middle carbon, which is **from** the carbon losing one `H` atom. This mapping leads molA (`C=CC=C`) to pair with `C[CH]C=C`."
   ]
  },
  {
   "cell_type": "code",
   "execution_count": 30,
   "metadata": {
    "collapsed": false
   },
   "outputs": [
    {
     "name": "stdout",
     "output_type": "stream",
     "text": [
      "molA with third mapping: \n",
      "1  *3 C u0 p0 c0 {2,S} {3,D} {5,S}\n",
      "2     C u0 p0 c0 {1,S} {4,D} {6,S}\n",
      "3  *2 C u0 p0 c0 {1,D} {7,S} {8,S}\n",
      "4     C u0 p0 c0 {2,D} {9,S} {10,S}\n",
      "5     H u0 p0 c0 {1,S}\n",
      "6     H u0 p0 c0 {2,S}\n",
      "7     H u0 p0 c0 {3,S}\n",
      "8     H u0 p0 c0 {3,S}\n",
      "9     H u0 p0 c0 {4,S}\n",
      "10    H u0 p0 c0 {4,S}\n",
      "\n"
     ]
    }
   ],
   "source": [
    "# assign the labels to atoms based on third mapping\n",
    "mapA = mappingsA[2]\n",
    "molA.clearLabeledAtoms()\n",
    "for atom, templateAtom in mapA.iteritems():\n",
    "    atom.label = templateAtom.label\n",
    "\n",
    "print \"molA with third mapping: \\n\" + str(molA.toAdjacencyList())"
   ]
  },
  {
   "cell_type": "markdown",
   "metadata": {},
   "source": [
    "Similar to molB, we have:"
   ]
  },
  {
   "cell_type": "code",
   "execution_count": 31,
   "metadata": {
    "collapsed": false
   },
   "outputs": [
    {
     "name": "stdout",
     "output_type": "stream",
     "text": [
      "molB with first mapping: \n",
      "1  *1 C u0 p0 c0 {2,S} {3,S} {5,S} {6,S}\n",
      "2     C u0 p0 c0 {1,S} {7,S} {8,S} {9,S}\n",
      "3     C u0 p0 c0 {1,S} {4,D} {10,S}\n",
      "4     C u0 p0 c0 {3,D} {11,S} {12,S}\n",
      "5  *4 H u0 p0 c0 {1,S}\n",
      "6     H u0 p0 c0 {1,S}\n",
      "7     H u0 p0 c0 {2,S}\n",
      "8     H u0 p0 c0 {2,S}\n",
      "9     H u0 p0 c0 {2,S}\n",
      "10    H u0 p0 c0 {3,S}\n",
      "11    H u0 p0 c0 {4,S}\n",
      "12    H u0 p0 c0 {4,S}\n",
      "\n",
      "molB with third mapping: \n",
      "1     C u0 p0 c0 {2,S} {3,S} {5,S} {6,S}\n",
      "2  *1 C u0 p0 c0 {1,S} {7,S} {8,S} {9,S}\n",
      "3     C u0 p0 c0 {1,S} {4,D} {10,S}\n",
      "4     C u0 p0 c0 {3,D} {11,S} {12,S}\n",
      "5     H u0 p0 c0 {1,S}\n",
      "6     H u0 p0 c0 {1,S}\n",
      "7  *4 H u0 p0 c0 {2,S}\n",
      "8     H u0 p0 c0 {2,S}\n",
      "9     H u0 p0 c0 {2,S}\n",
      "10    H u0 p0 c0 {3,S}\n",
      "11    H u0 p0 c0 {4,S}\n",
      "12    H u0 p0 c0 {4,S}\n",
      "\n"
     ]
    }
   ],
   "source": [
    "# assign the labels to atoms based on first mapping\n",
    "mapB = mappingsB[0]\n",
    "molB.clearLabeledAtoms()\n",
    "for atom, templateAtom in mapB.iteritems():\n",
    "    atom.label = templateAtom.label\n",
    "print \"molB with first mapping: \\n\" + str(molB.toAdjacencyList())\n",
    "# assign the labels to atoms based on third mapping\n",
    "mapB = mappingsB[2]\n",
    "molB.clearLabeledAtoms()\n",
    "for atom, templateAtom in mapB.iteritems():\n",
    "    atom.label = templateAtom.label\n",
    "print \"molB with third mapping: \\n\" + str(molB.toAdjacencyList())"
   ]
  },
  {
   "cell_type": "markdown",
   "metadata": {},
   "source": [
    "### Create product structures\n",
    "\n",
    "Usually different mapping combinations `(mapA, mapB)` will lead to different products, i.e., different reactions, so which mapping to be applied first doesn't really matter. However, the reaction `#8138` is special enough that different mappings lead to same reaction. In the other words, the very same reaction will have different kinetics templates matched because of different mappings. If reaction duplicates removal is only based on isomorphic checking of reactants and products, which is actually the case, the final kinetics template will be determined by the very first mapping, which may result in non-deterministic behavior if mappings' order varies somehow. "
   ]
  },
  {
   "cell_type": "code",
   "execution_count": 32,
   "metadata": {
    "collapsed": false
   },
   "outputs": [
    {
     "name": "stdout",
     "output_type": "stream",
     "text": [
      "mapping combination: 1st mapA and 1st mapB\n",
      "<Molecule \"C=C[CH]C\"> + <Molecule \"[CH2]CC=C\"> <=> <Molecule \"C=CC=C\"> + <Molecule \"C=CCC\">\n"
     ]
    }
   ],
   "source": [
    "# create product structures by applying some mapping combination `(mapA, mapB)`\n",
    "print \"mapping combination: 1st mapA and 1st mapB\"\n",
    "for mapA in mappingsA[:1]:\n",
    "    for mapB in mappingsB[:1]:\n",
    "        reactantStructures = [molA, molB]\n",
    "        try:\n",
    "            productStructures = \\\n",
    "            disprop_family._KineticsFamily__generateProductStructures(reactantStructures, \\\n",
    "                                                                      [mapA, mapB], \\\n",
    "                                                                      False)\n",
    "        except ForbiddenStructureException:\n",
    "            pass\n",
    "        else:\n",
    "            if productStructures is not None:\n",
    "                rxn = disprop_family._KineticsFamily__createReaction(reactantStructures, \\\n",
    "                                                                     productStructures, \\\n",
    "                                                                     False)\n",
    "                if rxn: print rxn"
   ]
  },
  {
   "cell_type": "code",
   "execution_count": 33,
   "metadata": {
    "collapsed": false
   },
   "outputs": [
    {
     "name": "stdout",
     "output_type": "stream",
     "text": [
      "mapping combination: 3rd mapA and 3rd mapB\n",
      "<Molecule \"[CH2]CC=C\"> + <Molecule \"C=C[CH]C\"> <=> <Molecule \"C=CC=C\"> + <Molecule \"C=CCC\">\n"
     ]
    }
   ],
   "source": [
    "# create product structures by applying another mapping combination `(mapA, mapB)`\n",
    "print \"mapping combination: 3rd mapA and 3rd mapB\"\n",
    "for mapA in mappingsA[2:3]:\n",
    "    for mapB in mappingsB[2:3]:\n",
    "        reactantStructures = [molA, molB]\n",
    "        try:\n",
    "            productStructures = \\\n",
    "            disprop_family.\\\n",
    "            _KineticsFamily__generateProductStructures(reactantStructures, \\\n",
    "                                                       [mapA, mapB], \\\n",
    "                                                       False)\n",
    "        except ForbiddenStructureException:\n",
    "            pass\n",
    "        else:\n",
    "            if productStructures is not None:\n",
    "                rxn = disprop_family.\\\n",
    "                _KineticsFamily__createReaction(reactantStructures, \\\n",
    "                                                productStructures, False)\n",
    "                if rxn: print rxn"
   ]
  },
  {
   "cell_type": "markdown",
   "metadata": {},
   "source": [
    "### Remove duplicates\n",
    "This step is to only keep the first unique reaction and eliminate other duplicates in the sense of products isomorphism.\n",
    "\n",
    "But we've already seen, two different mapping combinations `(1st mapA & 1st mapB) vs.(3rd mapA & 3rd mapB)` lead to same product structures, thus same reactions; if you look closer, the pairs of two reactions are actually different. These two mapping combinations stand for different reactant-product pair thus different transition states, probably having very different kinetics. However, current RMG `master` branch chooses to keep only the first occurance which is `(1st mapA & 1st mapB)` instead of `(3rd mapA & 3rd mapB)`, while our `edge_inchi_rxn` branch chooses the opposite.\n",
    "\n",
    "Therefore, there are two questions in front of us:\n",
    "\n",
    "1. how is the order of mapping combinations determined in `_KineticsFamily__matchReactantToTemplate`.\n",
    "\n",
    "2. what is the best way to calculate kinetics if two mapping combinations are both valid."
   ]
  },
  {
   "cell_type": "markdown",
   "metadata": {},
   "source": [
    "## New observations\n",
    "\n",
    "**Observation 1**\n",
    "\n",
    "- `master` branch maintains same atoms list for molA before and after `_KineticsFamily__matchReactantToTemplate`\n",
    "\n",
    "- `edge_inchi_rxn` branch will always change atoms list to a final one see below\n",
    "```\n",
    "1  C u0 p0 c0 {2,S} {3,D} {5,S}\n",
    "2  C u0 p0 c0 {1,S} {4,D} {6,S}\n",
    "3  C u0 p0 c0 {1,D} {7,S} {8,S}\n",
    "4  C u0 p0 c0 {2,D} {9,S} {10,S}\n",
    "5  H u0 p0 c0 {1,S}\n",
    "6  H u0 p0 c0 {2,S}\n",
    "7  H u0 p0 c0 {3,S}\n",
    "8  H u0 p0 c0 {3,S}\n",
    "9  H u0 p0 c0 {4,S}\n",
    "10 H u0 p0 c0 {4,S}\n",
    "```\n",
    "\n",
    "**Observation 2**\n",
    "\n",
    "- `master` branch gives different order of atoms for molA than `edge_inchi_rxn` does in `Molecule().fromSMILES(\"C=CC=C\")`\n",
    "\n",
    "\n",
    "If we can solve the two issues above, the `edge_inchi_rxn` should be producing same results as `master` branch does."
   ]
  },
  {
   "cell_type": "markdown",
   "metadata": {},
   "source": [
    "## What causes Observation 1\n",
    "The reason causes change in `edge_inchi_rxn` is\n",
    "- when creating molA from SMILES, i.e.,`fromSMILES()`, if then falling into `fromOBMol`case, since it currently doesn't call `update()`, the atoms list is un-sorted. A side note is if using `fromRDKitMol`, it does call `update()`, the atoms list will be sorted.\n",
    "- but after `_KineticsFamily__matchReactantToTemplate` which calls `update()`, the atoms list will change to sorted version."
   ]
  },
  {
   "cell_type": "code",
   "execution_count": 34,
   "metadata": {
    "collapsed": false
   },
   "outputs": [
    {
     "name": "stdout",
     "output_type": "stream",
     "text": [
      "Using openbabel:\n",
      "1  C u0 p0 c0 {2,S} {3,D} {5,S}\n",
      "2  C u0 p0 c0 {1,S} {4,D} {6,S}\n",
      "3  C u0 p0 c0 {1,D} {7,S} {8,S}\n",
      "4  C u0 p0 c0 {2,D} {9,S} {10,S}\n",
      "5  H u0 p0 c0 {1,S}\n",
      "6  H u0 p0 c0 {2,S}\n",
      "7  H u0 p0 c0 {3,S}\n",
      "8  H u0 p0 c0 {3,S}\n",
      "9  H u0 p0 c0 {4,S}\n",
      "10 H u0 p0 c0 {4,S}\n",
      "\n"
     ]
    }
   ],
   "source": [
    "from rmgpy.molecule.parser import parse_openbabel\n",
    "\n",
    "mol_test_OB = Molecule()\n",
    "parse_openbabel(mol_test_OB, \"C=CC=C\", 'smi')\n",
    "print \"Using openbabel:\"\n",
    "print mol_test_OB.toAdjacencyList()"
   ]
  },
  {
   "cell_type": "code",
   "execution_count": 35,
   "metadata": {
    "collapsed": false
   },
   "outputs": [
    {
     "name": "stdout",
     "output_type": "stream",
     "text": [
      "Using RDKit:\n",
      "1  C u0 p0 c0 {2,S} {3,D} {5,S}\n",
      "2  C u0 p0 c0 {1,S} {4,D} {6,S}\n",
      "3  C u0 p0 c0 {1,D} {7,S} {8,S}\n",
      "4  C u0 p0 c0 {2,D} {9,S} {10,S}\n",
      "5  H u0 p0 c0 {1,S}\n",
      "6  H u0 p0 c0 {2,S}\n",
      "7  H u0 p0 c0 {3,S}\n",
      "8  H u0 p0 c0 {3,S}\n",
      "9  H u0 p0 c0 {4,S}\n",
      "10 H u0 p0 c0 {4,S}\n",
      "\n"
     ]
    }
   ],
   "source": [
    "from rmgpy.molecule.parser import fromRDKitMol\n",
    "from rdkit import Chem\n",
    "\n",
    "rdkitmol = Chem.MolFromSmiles(\"C=CC=C\")\n",
    "mol_test_RD = Molecule()\n",
    "fromRDKitMol(mol_test_RD, rdkitmol)\n",
    "print \"Using RDKit:\"\n",
    "print mol_test_RD.toAdjacencyList()"
   ]
  },
  {
   "cell_type": "markdown",
   "metadata": {},
   "source": [
    "## What causes Observation 2\n",
    "fromSMILES creates Molecule object through several steps below\n",
    "- `molecule:fromSIMLES` calls `parser:fromSIMLES` calls `__parse` calls `__fromSMILES`\n",
    "- `__fromSMILES` calls `rdkit.Chem:MolFromSmiles` and `fromRDKitMol`\n",
    "- `fromRDKitMol`call `molecule:update`\n",
    "- in `master` branch `molecule:update` calls **`sortAtoms`** while `edge_inchi_rxn` branch it calls **`sortVertices`**\n",
    "\n",
    "I just checked the latest version of `master` branch has already changed `sortAtoms()` to `sortVertices()` in `update()`, so this observation probably won't be seen again."
   ]
  },
  {
   "cell_type": "markdown",
   "metadata": {
    "collapsed": true
   },
   "source": [
    "## How the order of mapping combinations are determined"
   ]
  },
  {
   "cell_type": "code",
   "execution_count": 36,
   "metadata": {
    "collapsed": false
   },
   "outputs": [
    {
     "name": "stdout",
     "output_type": "stream",
     "text": [
      "OR{X_R1, X_R2}\n"
     ]
    }
   ],
   "source": [
    "molA.clearLabeledAtoms()\n",
    "templateReactant2 = family_template.reactants[1]\n",
    "struct = templateReactant2.item\n",
    "print struct"
   ]
  },
  {
   "cell_type": "code",
   "execution_count": 37,
   "metadata": {
    "collapsed": false
   },
   "outputs": [],
   "source": [
    "child_structures = struct.getPossibleStructures(disprop_family.groups.entries)# trying to \n",
    "c_s = child_structures[0]"
   ]
  },
  {
   "cell_type": "code",
   "execution_count": 38,
   "metadata": {
    "collapsed": false
   },
   "outputs": [
    {
     "name": "stdout",
     "output_type": "stream",
     "text": [
      "1 *2 R!H u0 {2,[D,T]}\n",
      "2 *3 R!H u0 {1,[D,T]}\n",
      "\n"
     ]
    }
   ],
   "source": [
    "print c_s.toAdjacencyList()"
   ]
  },
  {
   "cell_type": "code",
   "execution_count": 39,
   "metadata": {
    "collapsed": false
   },
   "outputs": [
    {
     "name": "stdout",
     "output_type": "stream",
     "text": [
      "230\n"
     ]
    }
   ],
   "source": [
    "print len(disprop_family.groups.entries)"
   ]
  },
  {
   "cell_type": "code",
   "execution_count": null,
   "metadata": {
    "collapsed": true
   },
   "outputs": [],
   "source": []
  }
 ],
 "metadata": {
  "kernelspec": {
   "display_name": "Python 2",
   "language": "python",
   "name": "python2"
  },
  "language_info": {
   "codemirror_mode": {
    "name": "ipython",
    "version": 2
   },
   "file_extension": ".py",
   "mimetype": "text/x-python",
   "name": "python",
   "nbconvert_exporter": "python",
   "pygments_lexer": "ipython2",
   "version": "2.7.10"
  }
 },
 "nbformat": 4,
 "nbformat_minor": 0
}
