{
 "cells": [
  {
   "cell_type": "markdown",
   "metadata": {},
   "source": [
    "# How RMG generates reaction templates?\n",
    "\n",
    "Han, Kehang (hkh12@mit.edu)\n",
    "\n",
    "Nov.16, 2015"
   ]
  },
  {
   "cell_type": "markdown",
   "metadata": {},
   "source": [
    "## Motivation\n",
    "During RMG new feature development, it is occasionally observed that new change made same kinetic model produce different simulation results, e.g., selecting different edge species as the new core species. The cause usually is although RMG gives same reactions but generates different kinetics. \n",
    "\n",
    "For instance, the newly-developed branch `edge_inchi_rxn` produces almost same models as `master` branch does except some divergence which is found to be caused by different kinects for same reactions estimated by RMG. Further investigation shows the different kinetics stemmed from different reaction templates matched. Therefore, a full understanding of how RMG generates reation templates will help solve the discrepancy between the models from `edhe_inchi_rxn` and those from `master`."
   ]
  },
  {
   "cell_type": "markdown",
   "metadata": {},
   "source": [
    "## Roadmap\n",
    "\n",
    "This post will go through the entire process of generating reaction templates in RMG, which is consist of two main steps as shown below.\n",
    "\n",
    "- Set-up\n",
    "\n",
    "- Make reactions"
   ]
  },
  {
   "cell_type": "markdown",
   "metadata": {},
   "source": [
    "## Set-up\n",
    "Before investigating, several pre-steps should be needed for set-up.\n",
    "\n",
    "- import all the necessary modules\n",
    "\n",
    "- create RMG object and load database needed\n",
    "\n",
    "- create two reactants (C=CC=C and C=CCC go through disproportionation) for reacting research"
   ]
  },
  {
   "cell_type": "code",
   "execution_count": 15,
   "metadata": {
    "collapsed": true
   },
   "outputs": [],
   "source": [
    "%matplotlib inline\n",
    "from rmgpy.rmg.main import RMG, CoreEdgeReactionModel\n",
    "from rmgpy.data.rmg import RMGDatabase, database\n",
    "from rmgpy.data.base import ForbiddenStructureException\n",
    "from rmgpy.molecule import Molecule\n",
    "from rmgpy.species import Species\n",
    "from IPython.display import display\n",
    "import os"
   ]
  },
  {
   "cell_type": "code",
   "execution_count": 16,
   "metadata": {
    "collapsed": false
   },
   "outputs": [
    {
     "name": "stderr",
     "output_type": "stream",
     "text": [
      "WARNING:root:Should only make one instance of RMGDatabase because it's stored as a module-level variable!\n",
      "WARNING:root:Unexpected behaviour may result!\n"
     ]
    }
   ],
   "source": [
    "# set-up RMG object\n",
    "rmg = RMG()\n",
    "rmg.reactionModel = CoreEdgeReactionModel()\n",
    "\n",
    "# load kinetic database and forbidden structures\n",
    "rmg.database = RMGDatabase()\n",
    "home_path = os.getenv('HOME')\n",
    "path = os.path.join(home_path, 'Code', 'rmgmaster', 'RMG-database', 'input')\n",
    "\n",
    "# forbidden structure loading\n",
    "rmg.database.loadForbiddenStructures(os.path.join(path, 'forbiddenStructures.py'))\n",
    "# kinetics family Disproportionation loading\n",
    "rmg.database.loadKinetics(os.path.join(path, 'kinetics'), \\\n",
    "                          kineticsFamilies=['Disproportionation'])"
   ]
  },
  {
   "cell_type": "code",
   "execution_count": 17,
   "metadata": {
    "collapsed": false
   },
   "outputs": [
    {
     "name": "stdout",
     "output_type": "stream",
     "text": [
      "molA:\n"
     ]
    },
    {
     "data": {
      "image/png": "[encoded data removed]",
      "text/plain": [
       "Molecule(SMILES=\"C=CC=C\")"
      ]
     },
     "metadata": {},
     "output_type": "display_data"
    },
    {
     "name": "stdout",
     "output_type": "stream",
     "text": [
      "molB:\n"
     ]
    },
    {
     "data": {
      "image/png": "[encoded data removed]",
      "text/plain": [
       "Molecule(SMILES=\"C=CCC\")"
      ]
     },
     "metadata": {},
     "output_type": "display_data"
    }
   ],
   "source": [
    "# create reactants (molecules): C=CC=C and C=CCC\n",
    "molA = Molecule().fromSMILES(\"C=CC=C\")\n",
    "molB = Molecule().fromSMILES(\"C=CCC\")\n",
    "reactants = [molA, molB]\n",
    "print \"molA:\"\n",
    "display(molA)\n",
    "print \"molB:\"\n",
    "display(molB)"
   ]
  },
  {
   "cell_type": "markdown",
   "metadata": {},
   "source": [
    "## Make reactions\n",
    "The reaction-making step into five sub-steps,\n",
    "\n",
    "- Pick reaction family\n",
    "\n",
    "- Map reactants to family_template reactants\n",
    "\n",
    "- Create product strudtures and reactions based on mapping\n",
    "\n",
    "- Remove duplicate reactions\n",
    "\n",
    "- Get pairs and template for each remaining reaction\n",
    "\n",
    "As you will see, the final kinetics template is actually determined in the second sub-step: the first one of all mappings that lead to same reactions will win because of duplicates removal. "
   ]
  },
  {
   "cell_type": "markdown",
   "metadata": {},
   "source": [
    "### Pick reaction family"
   ]
  },
  {
   "cell_type": "code",
   "execution_count": 18,
   "metadata": {
    "collapsed": true
   },
   "outputs": [],
   "source": [
    "# pick out the reacting family\n",
    "families = rmg.database.kinetics.families\n",
    "disprop_family = families['Disproportionation']"
   ]
  },
  {
   "cell_type": "markdown",
   "metadata": {},
   "source": [
    "### Map reactants to family_template reactants"
   ]
  },
  {
   "cell_type": "code",
   "execution_count": 19,
   "metadata": {
    "collapsed": true
   },
   "outputs": [],
   "source": [
    "# map reactants to the reacting family's template reactants\n",
    "family_template = disprop_family.reverseTemplate\n",
    "mappingsA = disprop_family.\\\n",
    "_KineticsFamily__matchReactantToTemplate(molA, family_template.reactants[1])\n",
    "mappingsB = disprop_family.\\\n",
    "_KineticsFamily__matchReactantToTemplate(molB, family_template.reactants[0])"
   ]
  },
  {
   "cell_type": "markdown",
   "metadata": {},
   "source": [
    "After using the 1st mapping for molA, `*2` is assigned to the middle carbon, which is **from** the carbon losing one `H` atom. This mapping leads molA (`C=CC=C`) to pair with `C[CH]C=C`."
   ]
  },
  {
   "cell_type": "code",
   "execution_count": 20,
   "metadata": {
    "collapsed": false
   },
   "outputs": [
    {
     "name": "stdout",
     "output_type": "stream",
     "text": [
      "molA with first mapping: \n",
      "1  *2 C u0 p0 c0 {2,S} {3,D} {5,S}\n",
      "2     C u0 p0 c0 {1,S} {4,D} {6,S}\n",
      "3  *3 C u0 p0 c0 {1,D} {7,S} {8,S}\n",
      "4     C u0 p0 c0 {2,D} {9,S} {10,S}\n",
      "5     H u0 p0 c0 {1,S}\n",
      "6     H u0 p0 c0 {2,S}\n",
      "7     H u0 p0 c0 {3,S}\n",
      "8     H u0 p0 c0 {3,S}\n",
      "9     H u0 p0 c0 {4,S}\n",
      "10    H u0 p0 c0 {4,S}\n",
      "\n"
     ]
    }
   ],
   "source": [
    "# assign the labels to atoms based on first mapping\n",
    "mapA = mappingsA[0]\n",
    "molA.clearLabeledAtoms()\n",
    "for atom, templateAtom in mapA.iteritems():\n",
    "    atom.label = templateAtom.label\n",
    "\n",
    "print \"molA with first mapping: \\n\" + str(molA.toAdjacencyList())"
   ]
  },
  {
   "cell_type": "markdown",
   "metadata": {},
   "source": [
    "After using the 3rd mapping for molA, `*2` is assigned to the terminal carbon, which is **from** the carbon losing one `H` atom. This mapping leads molA (`C=CC=C`) to pair with `[CH2]CC=C`."
   ]
  },
  {
   "cell_type": "code",
   "execution_count": 21,
   "metadata": {
    "collapsed": false
   },
   "outputs": [
    {
     "name": "stdout",
     "output_type": "stream",
     "text": [
      "molA with third mapping: \n",
      "1  *3 C u0 p0 c0 {2,S} {3,D} {5,S}\n",
      "2     C u0 p0 c0 {1,S} {4,D} {6,S}\n",
      "3  *2 C u0 p0 c0 {1,D} {7,S} {8,S}\n",
      "4     C u0 p0 c0 {2,D} {9,S} {10,S}\n",
      "5     H u0 p0 c0 {1,S}\n",
      "6     H u0 p0 c0 {2,S}\n",
      "7     H u0 p0 c0 {3,S}\n",
      "8     H u0 p0 c0 {3,S}\n",
      "9     H u0 p0 c0 {4,S}\n",
      "10    H u0 p0 c0 {4,S}\n",
      "\n"
     ]
    }
   ],
   "source": [
    "# assign the labels to atoms based on third mapping\n",
    "mapA = mappingsA[2]\n",
    "molA.clearLabeledAtoms()\n",
    "for atom, templateAtom in mapA.iteritems():\n",
    "    atom.label = templateAtom.label\n",
    "\n",
    "print \"molA with third mapping: \\n\" + str(molA.toAdjacencyList())"
   ]
  },
  {
   "cell_type": "markdown",
   "metadata": {},
   "source": [
    "Similar to molB, we have:"
   ]
  },
  {
   "cell_type": "code",
   "execution_count": 22,
   "metadata": {
    "collapsed": false
   },
   "outputs": [
    {
     "name": "stdout",
     "output_type": "stream",
     "text": [
      "molB with first mapping: \n",
      "1  *1 C u0 p0 c0 {2,S} {3,S} {5,S} {6,S}\n",
      "2     C u0 p0 c0 {1,S} {7,S} {8,S} {9,S}\n",
      "3     C u0 p0 c0 {1,S} {4,D} {10,S}\n",
      "4     C u0 p0 c0 {3,D} {11,S} {12,S}\n",
      "5  *4 H u0 p0 c0 {1,S}\n",
      "6     H u0 p0 c0 {1,S}\n",
      "7     H u0 p0 c0 {2,S}\n",
      "8     H u0 p0 c0 {2,S}\n",
      "9     H u0 p0 c0 {2,S}\n",
      "10    H u0 p0 c0 {3,S}\n",
      "11    H u0 p0 c0 {4,S}\n",
      "12    H u0 p0 c0 {4,S}\n",
      "\n",
      "molB with third mapping: \n",
      "1     C u0 p0 c0 {2,S} {3,S} {5,S} {6,S}\n",
      "2  *1 C u0 p0 c0 {1,S} {7,S} {8,S} {9,S}\n",
      "3     C u0 p0 c0 {1,S} {4,D} {10,S}\n",
      "4     C u0 p0 c0 {3,D} {11,S} {12,S}\n",
      "5     H u0 p0 c0 {1,S}\n",
      "6     H u0 p0 c0 {1,S}\n",
      "7  *4 H u0 p0 c0 {2,S}\n",
      "8     H u0 p0 c0 {2,S}\n",
      "9     H u0 p0 c0 {2,S}\n",
      "10    H u0 p0 c0 {3,S}\n",
      "11    H u0 p0 c0 {4,S}\n",
      "12    H u0 p0 c0 {4,S}\n",
      "\n"
     ]
    }
   ],
   "source": [
    "# assign the labels to atoms based on first mapping\n",
    "mapB = mappingsB[0]\n",
    "molB.clearLabeledAtoms()\n",
    "for atom, templateAtom in mapB.iteritems():\n",
    "    atom.label = templateAtom.label\n",
    "print \"molB with first mapping: \\n\" + str(molB.toAdjacencyList())\n",
    "# assign the labels to atoms based on third mapping\n",
    "mapB = mappingsB[2]\n",
    "molB.clearLabeledAtoms()\n",
    "for atom, templateAtom in mapB.iteritems():\n",
    "    atom.label = templateAtom.label\n",
    "print \"molB with third mapping: \\n\" + str(molB.toAdjacencyList())"
   ]
  },
  {
   "cell_type": "markdown",
   "metadata": {},
   "source": [
    "### Create product structures and reactions based on mapping\n",
    "\n",
    "Usually different mapping combinations `(mapA, mapB)` will lead to different products, i.e., different reactions, so which mapping to be applied first doesn't really matter. However, the reaction below is special enough that different mappings lead to same reaction. In the other words, the very same reaction will have different kinetics templates matched because of different mappings. If reaction duplicates removal is only based on isomorphic checking of reactants and products, which is actually the case, the final kinetics template will be determined by the very first mapping, which may result in non-deterministic behavior if mappings' order varies somehow."
   ]
  },
  {
   "cell_type": "code",
   "execution_count": 23,
   "metadata": {
    "collapsed": false
   },
   "outputs": [
    {
     "name": "stdout",
     "output_type": "stream",
     "text": [
      "mapping combination: 1st mapA and 1st mapB\n",
      "<Molecule \"C=C[CH]C\"> + <Molecule \"[CH2]CC=C\"> <=> <Molecule \"C=CC=C\"> + <Molecule \"C=CCC\">\n"
     ]
    }
   ],
   "source": [
    "# create product structures by applying some mapping combination `(mapA, mapB)`\n",
    "print \"mapping combination: 1st mapA and 1st mapB\"\n",
    "for mapA in mappingsA[:1]:\n",
    "    for mapB in mappingsB[:1]:\n",
    "        reactantStructures = [molA, molB]\n",
    "        try:\n",
    "            productStructures = \\\n",
    "            disprop_family._KineticsFamily__generateProductStructures(reactantStructures, \\\n",
    "                                                                      [mapA, mapB], \\\n",
    "                                                                      False)\n",
    "        except ForbiddenStructureException:\n",
    "            pass\n",
    "        else:\n",
    "            if productStructures is not None:\n",
    "                rxn1 = disprop_family._KineticsFamily__createReaction(reactantStructures, \\\n",
    "                                                                     productStructures, \\\n",
    "                                                                     False)\n",
    "                if rxn1: print rxn1"
   ]
  },
  {
   "cell_type": "code",
   "execution_count": 24,
   "metadata": {
    "collapsed": false
   },
   "outputs": [
    {
     "name": "stdout",
     "output_type": "stream",
     "text": [
      "mapping combination: 3rd mapA and 3rd mapB\n",
      "<Molecule \"[CH2]CC=C\"> + <Molecule \"C=C[CH]C\"> <=> <Molecule \"C=CC=C\"> + <Molecule \"C=CCC\">\n"
     ]
    }
   ],
   "source": [
    "# create product structures by applying another mapping combination `(mapA, mapB)`\n",
    "print \"mapping combination: 3rd mapA and 3rd mapB\"\n",
    "for mapA in mappingsA[2:3]:\n",
    "    for mapB in mappingsB[2:3]:\n",
    "        reactantStructures = [molA, molB]\n",
    "        try:\n",
    "            productStructures = \\\n",
    "            disprop_family.\\\n",
    "            _KineticsFamily__generateProductStructures(reactantStructures, \\\n",
    "                                                       [mapA, mapB], \\\n",
    "                                                       False)\n",
    "        except ForbiddenStructureException:\n",
    "            pass\n",
    "        else:\n",
    "            if productStructures is not None:\n",
    "                rxn3 = disprop_family.\\\n",
    "                _KineticsFamily__createReaction(reactantStructures, \\\n",
    "                                                productStructures, False)\n",
    "                if rxn3: print rxn3"
   ]
  },
  {
   "cell_type": "markdown",
   "metadata": {},
   "source": [
    "### Remove duplicates\n",
    "This step is to only keep the first unique reaction and eliminate other duplicates in the sense of products isomorphism.\n",
    "\n",
    "We've already seen, two different mapping combinations `(1st mapA & 1st mapB) vs.(3rd mapA & 3rd mapB)` lead to same product structures, thus same reactions. However if looking closer, the pairs of two reactions are actually different. These two mapping combinations stand for different reactant-product pair thus different transition states, probably having very different kinetics. However, current RMG `master` branch chooses to keep only the first occurance which is `(1st mapA & 1st mapB)` instead of `(3rd mapA & 3rd mapB)`."
   ]
  },
  {
   "cell_type": "markdown",
   "metadata": {},
   "source": [
    "### Get pairs and template for remaining reactions\n",
    "In this example, since `rxn1` is generated firstly, `rxn1` is only kept for reaction `[CH2]CC=C + C=C[CH]C <=> C=CC=C + C=CCC`. So the template would be using `rxn1's` template as well the kinetics determined by that in further steps."
   ]
  },
  {
   "cell_type": "code",
   "execution_count": 25,
   "metadata": {
    "collapsed": false
   },
   "outputs": [
    {
     "name": "stdout",
     "output_type": "stream",
     "text": [
      "[[Molecule(SMILES=\"C=C[CH]C\"), Molecule(SMILES=\"C=CCC\")], [Molecule(SMILES=\"[CH2]CC=C\"), Molecule(SMILES=\"C=CC=C\")]]\n",
      "[<Entry index=53 label=\"C_rad/H/OneDeC\">, <Entry index=99 label=\"C/H2/De_Csrad\">]\n"
     ]
    }
   ],
   "source": [
    "print disprop_family.getReactionPairs(rxn1)\n",
    "print disprop_family.getReactionTemplate(rxn1)"
   ]
  },
  {
   "cell_type": "markdown",
   "metadata": {},
   "source": [
    "But if somehow, `rxn3` is generated firstly, the final kinetics for `[CH2]CC=C + C=C[CH]C <=> C=CC=C + C=CCC` will be much different because of using a different template."
   ]
  },
  {
   "cell_type": "code",
   "execution_count": 26,
   "metadata": {
    "collapsed": false
   },
   "outputs": [
    {
     "name": "stdout",
     "output_type": "stream",
     "text": [
      "[[Molecule(SMILES=\"[CH2]CC=C\"), Molecule(SMILES=\"C=CCC\")], [Molecule(SMILES=\"C=C[CH]C\"), Molecule(SMILES=\"C=CC=C\")]]\n",
      "[<Entry index=38 label=\"C_rad/H2/Cs\">, <Entry index=287 label=\"Cmethyl_Csrad/H/Cd\">]\n"
     ]
    }
   ],
   "source": [
    "print disprop_family.getReactionPairs(rxn3)\n",
    "print disprop_family.getReactionTemplate(rxn3)"
   ]
  },
  {
   "cell_type": "markdown",
   "metadata": {
    "collapsed": true
   },
   "source": [
    "## Comments\n",
    "The current method of determining the template is risky in some situations below:\n",
    "\n",
    "- where rxn1 is much slower or much faster than rxn3, `[CH2]CC=C + C=C[CH]C <=> C=CC=C + C=CCC` cannot really be represented by rxn1 because `degeneracy = 2` (1 for rxn1, 1 for rxn3) is not appropriate any more.\n",
    "\n",
    "Possible solutions:\n",
    "\n",
    "- store all the templates (from rxn1 and from rxn3) and kinetics should be added not simply multiplied by degeneracy\n",
    "\n",
    "- your inputs:..."
   ]
  }
 ],
 "metadata": {
  "kernelspec": {
   "display_name": "Python 2",
   "language": "python",
   "name": "python2"
  },
  "language_info": {
   "codemirror_mode": {
    "name": "ipython",
    "version": 2
   },
   "file_extension": ".py",
   "mimetype": "text/x-python",
   "name": "python",
   "nbconvert_exporter": "python",
   "pygments_lexer": "ipython2",
   "version": "2.7.10"
  }
 },
 "nbformat": 4,
 "nbformat_minor": 0
}
