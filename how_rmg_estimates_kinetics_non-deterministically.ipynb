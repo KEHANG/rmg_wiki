{
 "cells": [
  {
   "cell_type": "markdown",
   "metadata": {},
   "source": [
    "# How RMG estimates kinetics non-deterministically?\n",
    "\n",
    "Han, Kehang (hkh12@mit.edu)\n",
    "\n",
    "Nov.16, 2015"
   ]
  },
  {
   "cell_type": "markdown",
   "metadata": {},
   "source": [
    "## Introduction\n",
    "\n",
    "One of RMG's main principles is to only keep the first occurance and eliminate the duplicates such as species and reactions. But this is not a universally appropriate approach at least for some parts of RMG.\n",
    "\n",
    "In this post, I'm trying to give an example of how this approach could eventually lead to non-deterministic estimation of kinetics."
   ]
  },
  {
   "cell_type": "markdown",
   "metadata": {},
   "source": [
    "## Set-up\n",
    "Before investigating, several pre-steps should be needed for set-up.\n",
    "\n",
    "- import all the necessary modules\n",
    "\n",
    "- create RMG object and load database needed\n",
    "\n",
    "- create a reactant (O=C[C]=C goes through R_Addition_MultipleBond) for reacting research"
   ]
  },
  {
   "cell_type": "code",
   "execution_count": 3,
   "metadata": {
    "collapsed": true
   },
   "outputs": [],
   "source": [
    "from rmgpy.rmg.main import RMG, CoreEdgeReactionModel\n",
    "from rmgpy.data.rmg import RMGDatabase, database\n",
    "from rmgpy.rmg.model import Species\n",
    "from rmgpy.molecule import Molecule\n",
    "from rmgpy import settings\n",
    "import os"
   ]
  },
  {
   "cell_type": "code",
   "execution_count": 4,
   "metadata": {
    "collapsed": false
   },
   "outputs": [
    {
     "name": "stderr",
     "output_type": "stream",
     "text": [
      "WARNING:root:Should only make one instance of RMGDatabase because it's stored as a module-level variable!\n",
      "WARNING:root:Unexpected behaviour may result!\n"
     ]
    }
   ],
   "source": [
    "# set-up RMG object\n",
    "rmg = RMG()\n",
    "rmg.reactionModel = CoreEdgeReactionModel()\n",
    "\n",
    "# load kinetic database and forbidden structures\n",
    "rmg.database = RMGDatabase()\n",
    "path = os.path.join(settings['database.directory'])\n",
    "\n",
    "# forbidden structure loading\n",
    "database.loadForbiddenStructures(os.path.join(path, 'forbiddenStructures.py'))\n",
    "# kinetics family Disproportionation loading\n",
    "database.loadKinetics(os.path.join(path, 'kinetics'), \\\n",
    "                          kineticsFamilies=['R_Addition_MultipleBond'])"
   ]
  },
  {
   "cell_type": "code",
   "execution_count": 5,
   "metadata": {
    "collapsed": false
   },
   "outputs": [
    {
     "name": "stdout",
     "output_type": "stream",
     "text": [
      "C=[C]C=O\n",
      "multiplicity 2\n",
      "1 O u0 p2 c0 {2,D}\n",
      "2 C u0 p0 c0 {1,D} {4,S} {5,S}\n",
      "3 C u0 p0 c0 {4,D} {6,S} {7,S}\n",
      "4 C u1 p0 c0 {2,S} {3,D}\n",
      "5 H u0 p0 c0 {2,S}\n",
      "6 H u0 p0 c0 {3,S}\n",
      "7 H u0 p0 c0 {3,S}\n",
      "\n"
     ]
    }
   ],
   "source": [
    "spc = Species().fromSMILES(\"O=C[C]=C\")\n",
    "print spc.molecule[0].toSMILES()\n",
    "print spc.molecule[0].toAdjacencyList()"
   ]
  },
  {
   "cell_type": "code",
   "execution_count": 67,
   "metadata": {
    "collapsed": false
   },
   "outputs": [
    {
     "name": "stdout",
     "output_type": "stream",
     "text": [
      "C=C=C=O + [H] <=> C=[C]C=O\n",
      "[<Entry index=127 label=\"Ck_Ca\">, <Entry index=915 label=\"HJ\">]\n",
      "C=C=C=O + [H] <=> C=C=C[O]\n",
      "[<Entry index=6 label=\"Ck_O\">, <Entry index=915 label=\"HJ\">]\n"
     ]
    }
   ],
   "source": [
    "newReactions = []\n",
    "spc.generateResonanceIsomers()\n",
    "newReactions.extend(rmg.reactionModel.react(database, spc))\n",
    "\n",
    "# try to pick out the target reaction I want to show\n",
    "mol_H = Molecule().fromSMILES(\"[H]\")\n",
    "mol_C3H2O = Molecule().fromSMILES(\"C=C=C=O\")\n",
    "for rxn in newReactions:\n",
    "    reactants = rxn.reactants\n",
    "    products = rxn.products\n",
    "    rxn_specs = reactants + products\n",
    "    for rxn_spec in rxn_specs:\n",
    "        if rxn_spec.isIsomorphic(mol_H):\n",
    "            for rxn_spec1 in rxn_specs:\n",
    "                if rxn_spec1.isIsomorphic(mol_C3H2O):\n",
    "                    for rxn_spec in rxn_specs:\n",
    "                        rxn_spec.label = rxn_spec.molecule[0].toSMILES()\n",
    "                    print rxn\n",
    "                    print rxn.template"
   ]
  },
  {
   "cell_type": "markdown",
   "metadata": {},
   "source": [
    "As you can see, the reactions `C=C=C=O + [H] <=> C=[C]C=O` and `C=C=C=O + [H] <=> C=C=C[O]` have same left side and right sides are resonance isomers. After encapsulating molecule into species, these two reactions will be treated as same reactions in current RMG design although their matched templates are fairly different. "
   ]
  },
  {
   "cell_type": "code",
   "execution_count": 68,
   "metadata": {
    "collapsed": false
   },
   "outputs": [
    {
     "name": "stdout",
     "output_type": "stream",
     "text": [
      "C=C=C=O(1) + [H](2) <=> C=[C]C=O(3)\n",
      "[<Entry index=127 label=\"Ck_Ca\">, <Entry index=915 label=\"HJ\">]\n"
     ]
    }
   ],
   "source": [
    "rmg.reactionModel.processNewReactions(newReactions, spc, None)\n",
    "for rxn in rmg.reactionModel.edge.reactions:\n",
    "    # try to pick out the target reaction I want to show\n",
    "    reactants = rxn.reactants\n",
    "    products = rxn.products\n",
    "    rxn_specs = reactants + products\n",
    "    for rxn_spec in rxn_specs:\n",
    "        if rxn_spec.isIsomorphic(mol_H):\n",
    "            for rxn_spec1 in rxn_specs:\n",
    "                if rxn_spec1.isIsomorphic(mol_C3H2O):\n",
    "                    print rxn\n",
    "                    print rxn.template"
   ]
  },
  {
   "cell_type": "markdown",
   "metadata": {},
   "source": [
    "But after `processNewReactions`, only `[<Entry index=127 label=\"Ck_Ca\">, <Entry index=915 label=\"HJ\">]` is retained because it appears first."
   ]
  },
  {
   "cell_type": "markdown",
   "metadata": {},
   "source": [
    "## Change order of molecule list in the spc\n",
    "\n",
    "As you can imagine, the order of moleucle in the spc could eventually determine the order of the reactions in list `newReactions`"
   ]
  },
  {
   "cell_type": "code",
   "execution_count": 69,
   "metadata": {
    "collapsed": true
   },
   "outputs": [],
   "source": [
    "spc.molecule = list(reversed(spc.molecule))"
   ]
  },
  {
   "cell_type": "code",
   "execution_count": 70,
   "metadata": {
    "collapsed": false
   },
   "outputs": [
    {
     "name": "stdout",
     "output_type": "stream",
     "text": [
      "C=C=C=O + [H] <=> C=C=C[O]\n",
      "[<Entry index=6 label=\"Ck_O\">, <Entry index=915 label=\"HJ\">]\n",
      "C=C=C=O + [H] <=> C=[C]C=O\n",
      "[<Entry index=127 label=\"Ck_Ca\">, <Entry index=915 label=\"HJ\">]\n"
     ]
    }
   ],
   "source": [
    "newReactions = []\n",
    "newReactions.extend(rmg.reactionModel.react(database, spc))\n",
    "\n",
    "mol_H = Molecule().fromSMILES(\"[H]\")\n",
    "mol_C3H2O = Molecule().fromSMILES(\"C=C=C=O\")\n",
    "for rxn in newReactions:\n",
    "    reactants = rxn.reactants\n",
    "    products = rxn.products\n",
    "    rxn_specs = reactants + products\n",
    "    for rxn_spec in rxn_specs:\n",
    "        if rxn_spec.isIsomorphic(mol_H):\n",
    "            for rxn_spec1 in rxn_specs:\n",
    "                if rxn_spec1.isIsomorphic(mol_C3H2O):\n",
    "                    for rxn_spec in rxn_specs:\n",
    "                        rxn_spec.label = rxn_spec.molecule[0].toSMILES()\n",
    "                    print rxn\n",
    "                    print rxn.template"
   ]
  },
  {
   "cell_type": "markdown",
   "metadata": {},
   "source": [
    "As you can see, the two reactions have changed the order, which will lead to `[<Entry index=6 label=\"Ck_O\">, <Entry index=915 label=\"HJ\">]` to retain because it appears firt this time."
   ]
  },
  {
   "cell_type": "code",
   "execution_count": 72,
   "metadata": {
    "collapsed": false
   },
   "outputs": [
    {
     "name": "stdout",
     "output_type": "stream",
     "text": [
      "C=C=C=O(1) + [H](2) <=> C=C=C[O](3)\n",
      "[<Entry index=6 label=\"Ck_O\">, <Entry index=915 label=\"HJ\">]\n"
     ]
    }
   ],
   "source": [
    "# set-up RMG object\n",
    "rmg_new = RMG()\n",
    "rmg_new.reactionModel = CoreEdgeReactionModel()\n",
    "\n",
    "rmg_new.reactionModel.processNewReactions(newReactions, spc, None)\n",
    "\n",
    "for rxn in rmg_new.reactionModel.edge.reactions:\n",
    "    reactants = rxn.reactants\n",
    "    products = rxn.products\n",
    "    rxn_specs = reactants + products\n",
    "    for rxn_spec in rxn_specs:\n",
    "        if rxn_spec.isIsomorphic(mol_H):\n",
    "            for rxn_spec1 in rxn_specs:\n",
    "                if rxn_spec1.isIsomorphic(mol_C3H2O):\n",
    "                    print rxn\n",
    "                    print rxn.template"
   ]
  },
  {
   "cell_type": "markdown",
   "metadata": {},
   "source": [
    "## Conclusion\n",
    "\n",
    "The order of molecules in `spc.molecule` can eventually lead to same reaction but different templates matched and therefore different kinetics. This difference could be exposed as **modelling diverging** if newly developed features have a different molecule order than `master` branch."
   ]
  },
  {
   "cell_type": "markdown",
   "metadata": {},
   "source": [
    "And here is an example, below is the spc constructed early in the post"
   ]
  },
  {
   "cell_type": "code",
   "execution_count": 74,
   "metadata": {
    "collapsed": false
   },
   "outputs": [
    {
     "name": "stdout",
     "output_type": "stream",
     "text": [
      "C=[C]C=O\n",
      "multiplicity 2\n",
      "1 C u1 p0 c0 {2,S} {3,D}\n",
      "2 C u0 p0 c0 {1,S} {4,D} {5,S}\n",
      "3 C u0 p0 c0 {1,D} {6,S} {7,S}\n",
      "4 O u0 p2 c0 {2,D}\n",
      "5 H u0 p0 c0 {2,S}\n",
      "6 H u0 p0 c0 {3,S}\n",
      "7 H u0 p0 c0 {3,S}\n",
      "\n"
     ]
    }
   ],
   "source": [
    "spc = Species().fromSMILES(\"O=C[C]=C\")\n",
    "print spc.molecule[0].toSMILES()\n",
    "print spc.molecule[0].toAdjacencyList()"
   ]
  },
  {
   "cell_type": "markdown",
   "metadata": {},
   "source": [
    "If we convert it into InChISpecies and then convert it back, the order cannot be preserved."
   ]
  },
  {
   "cell_type": "code",
   "execution_count": 5,
   "metadata": {
    "collapsed": true
   },
   "outputs": [],
   "source": [
    "# to run the code below you should checkout the `edge_inchi_rxn` branch\n",
    "from rmgpy.rmg.model import InChISpecies\n",
    "ispc = InChISpecies(spc)"
   ]
  },
  {
   "cell_type": "code",
   "execution_count": 17,
   "metadata": {
    "collapsed": false
   },
   "outputs": [
    {
     "name": "stdout",
     "output_type": "stream",
     "text": [
      "C=C=C[O]\n",
      "multiplicity 2\n",
      "1 C u0 p0 c0 {2,D} {5,S} {6,S}\n",
      "2 C u0 p0 c0 {1,D} {3,D}\n",
      "3 C u0 p0 c0 {2,D} {4,S} {7,S}\n",
      "4 O u1 p2 c0 {3,S}\n",
      "5 H u0 p0 c0 {1,S}\n",
      "6 H u0 p0 c0 {1,S}\n",
      "7 H u0 p0 c0 {3,S}\n",
      "\n"
     ]
    }
   ],
   "source": [
    "spc_new = Species(molecule=[Molecule().fromAugmentedInChI(ispc.getAugmentedInChI())])\n",
    "print spc_709_new.molecule[0].toSMILES()\n",
    "print spc_709_new.molecule[0].toAdjacencyList()"
   ]
  },
  {
   "cell_type": "markdown",
   "metadata": {},
   "source": [
    "One can argue everything should be kept as same as `master`, but I treated it as a bug in current `master` branch, that is, final kinetic data is dependent on molecule list ordering of a reacting species."
   ]
  }
 ],
 "metadata": {
  "kernelspec": {
   "display_name": "Python 2",
   "language": "python",
   "name": "python2"
  },
  "language_info": {
   "codemirror_mode": {
    "name": "ipython",
    "version": 2
   },
   "file_extension": ".py",
   "mimetype": "text/x-python",
   "name": "python",
   "nbconvert_exporter": "python",
   "pygments_lexer": "ipython2",
   "version": "2.7.10"
  }
 },
 "nbformat": 4,
 "nbformat_minor": 0
}
