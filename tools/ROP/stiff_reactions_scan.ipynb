{
 "cells": [
  {
   "cell_type": "code",
   "execution_count": 18,
   "metadata": {
    "collapsed": false
   },
   "outputs": [],
   "source": [
    "from rmgpy.rmg.model import CoreEdgeReactionModel\n",
    "from rmgpy.chemkin import loadChemkinFile, saveChemkinFile\n",
    "import os\n",
    "from IPython.display import display"
   ]
  },
  {
   "cell_type": "code",
   "execution_count": 2,
   "metadata": {
    "collapsed": true
   },
   "outputs": [],
   "source": [
    "# chemkin model name\n",
    "mech = 'surm009'"
   ]
  },
  {
   "cell_type": "code",
   "execution_count": 3,
   "metadata": {
    "collapsed": true
   },
   "outputs": [],
   "source": [
    "path = os.path.abspath('../')\n",
    "mechPath = path + '/data/' + mech\n",
    "chemkinPath= mechPath + '/chem.inp'\n",
    "dictionaryPath = mechPath + '/species_dictionary.txt'\n",
    "\n",
    "model = CoreEdgeReactionModel()\n",
    "model.core.species, model.core.reactions = loadChemkinFile(chemkinPath,dictionaryPath)"
   ]
  },
  {
   "cell_type": "code",
   "execution_count": 24,
   "metadata": {
    "collapsed": false
   },
   "outputs": [
    {
     "data": {
      "text/plain": [
       "9711"
      ]
     },
     "execution_count": 24,
     "metadata": {},
     "output_type": "execute_result"
    }
   ],
   "source": [
    "len(model.core.reactions)"
   ]
  },
  {
   "cell_type": "code",
   "execution_count": 121,
   "metadata": {
    "collapsed": true
   },
   "outputs": [],
   "source": [
    "T = 6.731500e+02 # K"
   ]
  },
  {
   "cell_type": "markdown",
   "metadata": {},
   "source": [
    "## scan reactions"
   ]
  },
  {
   "cell_type": "code",
   "execution_count": 122,
   "metadata": {
    "collapsed": false
   },
   "outputs": [
    {
     "data": {
      "text/plain": [
       "2470.1775235831537"
      ]
     },
     "execution_count": 122,
     "metadata": {},
     "output_type": "execute_result"
    }
   ],
   "source": [
    "P = 4e5 # Pa\n",
    "R = 8.314\n",
    "bimolecularThreshold = 5e12 # 1/M*sec\n",
    "unimolecularThreshold = bimolecularThreshold * (P*R/T)/1000 # 1/sec\n",
    "unimolecularThreshold/1e10"
   ]
  },
  {
   "cell_type": "code",
   "execution_count": 132,
   "metadata": {
    "collapsed": false
   },
   "outputs": [
    {
     "name": "stdout",
     "output_type": "stream",
     "text": [
      "9300\n"
     ]
    }
   ],
   "source": [
    "threshold1 = unimolecularThreshold/1e18\n",
    "threshold2 = bimolecularThreshold\n",
    "rxnList = []\n",
    "for rxn in model.core.reactions:\n",
    "    rm = False\n",
    "    if len(rxn.products) == 1:\n",
    "        containS = False\n",
    "        for atm in rxn.products[0].molecule[0].atoms:\n",
    "            if atm.isSulfur():\n",
    "                containS = True\n",
    "                break\n",
    "        if not containS: \n",
    "            rxnList.append(rxn)\n",
    "            continue\n",
    "        reverseRate = rxn.generateReverseRateCoefficient()\n",
    "        if reverseRate.getRateCoefficient(T)  > threshold1:\n",
    "#             print \"##########rxn: {}##############\".format(rxn)\n",
    "#             print \"##########reverse rate: {}##############\".format(reverseRate.getRateCoefficient(T))\n",
    "            rm = True\n",
    "# #             display(rxn)\n",
    "    \n",
    "    elif len(rxn.reactants) == 1:\n",
    "        containS = False\n",
    "        for atm in rxn.reactants[0].molecule[0].atoms:\n",
    "            if atm.isSulfur():\n",
    "                containS = True\n",
    "                break\n",
    "        if not containS: \n",
    "            rxnList.append(rxn)\n",
    "            continue\n",
    "        forwardRate = rxn.kinetics\n",
    "        if forwardRate.getRateCoefficient(T)  > threshold1:\n",
    "#             print \"##########rxn: {}##############\".format(rxn)\n",
    "#             print \"##########reverse rate: {}##############\".format(forwardRate.getRateCoefficient(T))\n",
    "            rm = True\n",
    "#             display(rxn)\n",
    "    else:\n",
    "        containS = False\n",
    "        atomList = []\n",
    "        for spe in rxn.reactants + rxn.products:\n",
    "            atomList = atomList + spe.molecule[0].atoms\n",
    "        \n",
    "        for atm in atomList:\n",
    "            if atm.isSulfur():\n",
    "                containS = True\n",
    "                break\n",
    "        if not containS: \n",
    "            rxnList.append(rxn)\n",
    "            continue\n",
    "        \n",
    "        forwardRate = rxn.kinetics\n",
    "        reverseRate = rxn.generateReverseRateCoefficient()\n",
    "        if (forwardRate.getRateCoefficient(T)  > threshold2) or (reverseRate.getRateCoefficient(T) > threshold2):\n",
    "            rm = True\n",
    "        \n",
    "    \n",
    "    if not rm:\n",
    "        rxnList.append(rxn)\n",
    "print len(rxnList)"
   ]
  },
  {
   "cell_type": "code",
   "execution_count": 133,
   "metadata": {
    "collapsed": true
   },
   "outputs": [],
   "source": [
    "mech_rm = os.path.join(path, 'data', mech+'_rm')\n",
    "if not os.path.exists(mech_rm):\n",
    "    os.mkdir(mech_rm)\n"
   ]
  },
  {
   "cell_type": "code",
   "execution_count": 134,
   "metadata": {
    "collapsed": false
   },
   "outputs": [],
   "source": [
    "saveChemkinFile(os.path.join(mech_rm, 'chem.inp'), model.core.species, rxnList, verbose = True, checkForDuplicates=False)"
   ]
  }
 ],
 "metadata": {
  "anaconda-cloud": {},
  "kernelspec": {
   "display_name": "Python [conda env:rmg_env]",
   "language": "python",
   "name": "conda-env-rmg_env-py"
  },
  "language_info": {
   "codemirror_mode": {
    "name": "ipython",
    "version": 2
   },
   "file_extension": ".py",
   "mimetype": "text/x-python",
   "name": "python",
   "nbconvert_exporter": "python",
   "pygments_lexer": "ipython2",
   "version": "2.7.12"
  }
 },
 "nbformat": 4,
 "nbformat_minor": 1
}
