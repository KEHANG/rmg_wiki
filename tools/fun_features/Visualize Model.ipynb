{
 "cells": [
  {
   "cell_type": "markdown",
   "metadata": {},
   "source": [
    "# Visualization of Kinetic Mechanism"
   ]
  },
  {
   "cell_type": "markdown",
   "metadata": {},
   "source": [
    "Mainly for occurances where RMG website cannot handle big mechanisms."
   ]
  },
  {
   "cell_type": "code",
   "execution_count": 1,
   "metadata": {
    "collapsed": true
   },
   "outputs": [],
   "source": [
    "from rmgpy.rmg.model import CoreEdgeReactionModel\n",
    "from rmgpy.rmg.output import saveOutputHTML\n",
    "from rmgpy.chemkin import loadChemkinFile\n",
    "import os"
   ]
  },
  {
   "cell_type": "code",
   "execution_count": 2,
   "metadata": {
    "collapsed": false
   },
   "outputs": [],
   "source": [
    "path = os.path.abspath('data/pdd1010/')\n",
    "chemkinPath= os.path.join(path, 'chem_annotated.inp')\n",
    "dictionaryPath = os.path.join(path, 'species_dictionary.txt')\n",
    "model = CoreEdgeReactionModel()\n",
    "model.core.species, model.core.reactions = loadChemkinFile(chemkinPath,dictionaryPath, readComments = True)\n",
    "outputPath = os.path.join(path, 'output.html')\n",
    "speciesPath = os.path.join(path,'species')\n",
    "if not os.path.isdir(speciesPath):\n",
    "    os.makedirs(speciesPath)\n",
    "saveOutputHTML(outputPath, model)"
   ]
  },
  {
   "cell_type": "code",
   "execution_count": null,
   "metadata": {
    "collapsed": true
   },
   "outputs": [],
   "source": []
  }
 ],
 "metadata": {
  "kernelspec": {
   "display_name": "Python 2",
   "language": "python",
   "name": "python2"
  },
  "language_info": {
   "codemirror_mode": {
    "name": "ipython",
    "version": 2
   },
   "file_extension": ".py",
   "mimetype": "text/x-python",
   "name": "python",
   "nbconvert_exporter": "python",
   "pygments_lexer": "ipython2",
   "version": "2.7.11"
  }
 },
 "nbformat": 4,
 "nbformat_minor": 0
}
