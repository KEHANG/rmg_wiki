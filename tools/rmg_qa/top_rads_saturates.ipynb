{
 "cells": [
  {
   "cell_type": "markdown",
   "metadata": {},
   "source": [
    "# What are the top radicals and saturates?\n",
    "\n",
    "- inputs: model, ckcsv\n",
    "\n",
    "- outputs: radicals and saturates in top concentrations"
   ]
  },
  {
   "cell_type": "code",
   "execution_count": 9,
   "metadata": {
    "collapsed": true
   },
   "outputs": [],
   "source": [
    "import os\n",
    "from rmgpy.chemkin import loadChemkinFile, getSpeciesIdentifier\n",
    "from pychemkin.chemkin import getMoleFraction"
   ]
  },
  {
   "cell_type": "code",
   "execution_count": 5,
   "metadata": {
    "collapsed": false
   },
   "outputs": [],
   "source": [
    "# load chemkin model\n",
    "mech = 'pdd_scratch_add11'\n",
    "path = os.path.abspath('./')\n",
    "chemkinPath= path + '/data/' + mech + '/chem.inp'\n",
    "dictionaryPath = path + '/data/' + mech + '/species_dictionary.txt'\n",
    "species_list, reactions_list = loadChemkinFile(chemkinPath, dictionaryPath, readComments = False)"
   ]
  },
  {
   "cell_type": "code",
   "execution_count": 11,
   "metadata": {
    "collapsed": false
   },
   "outputs": [],
   "source": [
    "# load ckcsv info\n",
    "species_id_list = []\n",
    "for spc in species_list:\n",
    "    species_id_list.append(getSpeciesIdentifier(spc))\n",
    "\n",
    "ckcsvPath= path + '/data/' + mech + '/CKSoln.ckcsv'\n",
    "tempData, spcData = getMoleFraction(ckcsvPath, species_id_list)"
   ]
  },
  {
   "cell_type": "code",
   "execution_count": 36,
   "metadata": {
    "collapsed": false
   },
   "outputs": [],
   "source": [
    "# get top radicals and saturates list\n",
    "spc_sorted = sorted(spcData.items(), key=lambda tup: -tup[1][0][-1]) # tup:(spc,[array,..])\n",
    "\n",
    "top_rad_list = []\n",
    "top_sat_list = []\n",
    "for tup in spc_sorted:\n",
    "    spc_id = tup[0]\n",
    "    final_mf = tup[1][0][-1]\n",
    "    for spc in species_list:\n",
    "        if getSpeciesIdentifier(spc) == spc_id:\n",
    "            if spc.molecule[0].isRadical():\n",
    "                top_rad_list.append((spc, final_mf))\n",
    "            else:\n",
    "                top_sat_list.append((spc, final_mf))"
   ]
  },
  {
   "cell_type": "code",
   "execution_count": 39,
   "metadata": {
    "collapsed": false
   },
   "outputs": [
    {
     "name": "stdout",
     "output_type": "stream",
     "text": [
      "C11H21(30) 1.917909e-09\n",
      "C18H29(14) 1.374644e-09\n",
      "C3H5(37) 7.573044e-11\n",
      "Benzyl(2) 5.952164e-11\n",
      "C18H29(15) 1.464646e-11\n",
      "C18H29(7) 1.251423e-11\n",
      "C18H29(5) 1.251423e-11\n",
      "C18H29(13) 1.251423e-11\n",
      "C18H29(11) 1.251423e-11\n",
      "C18H29(8) 1.251423e-11\n"
     ]
    }
   ],
   "source": [
    "# display top radicals\n",
    "for tup in top_rad_list[:10]:\n",
    "    print getSpeciesIdentifier(tup[0]), tup[1]"
   ]
  },
  {
   "cell_type": "code",
   "execution_count": 40,
   "metadata": {
    "collapsed": false
   },
   "outputs": [
    {
     "name": "stdout",
     "output_type": "stream",
     "text": [
      "C18H30(3) 0.5767054\n",
      "C7H8(17) 0.1961338\n",
      "C11H22(22) 0.1689563\n",
      "C3H6(42) 0.01125201\n",
      "C8H16(36) 0.01102309\n",
      "C7H16(40) 0.01091819\n",
      "C4H6(32) 0.01091819\n",
      "C8H8(18) 0.003811881\n",
      "C10H22(38) 0.003811881\n",
      "C11H24(4) 0.001977952\n"
     ]
    }
   ],
   "source": [
    "# display top saturates\n",
    "for tup in top_sat_list[:10]:\n",
    "    print getSpeciesIdentifier(tup[0]), tup[1]"
   ]
  }
 ],
 "metadata": {
  "kernelspec": {
   "display_name": "Python 2",
   "language": "python",
   "name": "python2"
  },
  "language_info": {
   "codemirror_mode": {
    "name": "ipython",
    "version": 2
   },
   "file_extension": ".py",
   "mimetype": "text/x-python",
   "name": "python",
   "nbconvert_exporter": "python",
   "pygments_lexer": "ipython2",
   "version": "2.7.10"
  }
 },
 "nbformat": 4,
 "nbformat_minor": 0
}
