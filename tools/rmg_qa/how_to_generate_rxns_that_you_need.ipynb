{
 "cells": [
  {
   "cell_type": "markdown",
   "metadata": {},
   "source": [
    "# Generate rxns that only you need\n",
    "\n",
    "Han, Kehang (hkh12@mit.edu)"
   ]
  },
  {
   "cell_type": "markdown",
   "metadata": {},
   "source": [
    "## Set-up"
   ]
  },
  {
   "cell_type": "code",
   "execution_count": 1,
   "metadata": {
    "collapsed": true
   },
   "outputs": [],
   "source": [
    "import os\n",
    "from rmgpy.rmg.main import RMG, CoreEdgeReactionModel\n",
    "from rmgpy.data.rmg import RMGDatabase\n",
    "from rmgpy import settings"
   ]
  },
  {
   "cell_type": "code",
   "execution_count": 2,
   "metadata": {
    "collapsed": false
   },
   "outputs": [],
   "source": [
    "# set-up RMG object\n",
    "rmg = RMG()\n",
    "rmg.reactionModel = CoreEdgeReactionModel()\n",
    "\n",
    "# load kinetic database and forbidden structures\n",
    "rmg.database = RMGDatabase()\n",
    "path = os.path.join(settings['database.directory'])"
   ]
  },
  {
   "cell_type": "code",
   "execution_count": 3,
   "metadata": {
    "collapsed": false
   },
   "outputs": [
    {
     "name": "stderr",
     "output_type": "stream",
     "text": [
      "/home/kehang/Code/rmgmaster/RMG-Py/rmgpy/scoop_framework/util.py:77: RuntimeWarning: SCOOP was not started properly.\n",
      "Be sure to start your program with the '-m scoop' parameter. You can find further information in the documentation.\n",
      "\n",
      "  RuntimeWarning\n"
     ]
    }
   ],
   "source": [
    "from rmgpy.data.rmg import database\n",
    "# forbidden structure loading\n",
    "database.loadForbiddenStructures(os.path.join(path, 'forbiddenStructures.py'))\n",
    "# kinetics family Disproportionation loading\n",
    "database.loadKinetics(os.path.join(path, 'kinetics'), kineticsFamilies='default')\n",
    "# set rmg kinetics estimator\n",
    "rmg.reactionModel.kineticsEstimator = \"rate rules\""
   ]
  },
  {
   "cell_type": "code",
   "execution_count": 4,
   "metadata": {
    "collapsed": false
   },
   "outputs": [],
   "source": [
    "database.loadThermo(os.path.join(path, 'thermo'))\n",
    "database.loadTransport(os.path.join(path, 'transport'))"
   ]
  },
  {
   "cell_type": "markdown",
   "metadata": {},
   "source": [
    "## Input"
   ]
  },
  {
   "cell_type": "code",
   "execution_count": 5,
   "metadata": {
    "collapsed": true
   },
   "outputs": [],
   "source": [
    "from rmgpy.rmg.model import Species\n",
    "rxtA = Species().fromSMILES(\"C=C[CH2]\")\n",
    "rxtB = Species().fromSMILES(\"C=Cc1ccccc1\")\n",
    "pdtC = Species().fromSMILES(\"C=CCC[CH]c1ccccc1\")\n",
    "reactants = [rxtA, rxtB]\n",
    "products = [pdtC]\n",
    "\n",
    "# family\n",
    "family_interested = 'R_Addition_MultipleBond'"
   ]
  },
  {
   "cell_type": "code",
   "execution_count": 6,
   "metadata": {
    "collapsed": false
   },
   "outputs": [],
   "source": [
    "# gen thermo and transport for reactants\n",
    "for spec in reactants:\n",
    "    spec.generateThermoData(database)\n",
    "    spec.generateTransportData(database)"
   ]
  },
  {
   "cell_type": "markdown",
   "metadata": {},
   "source": [
    "### pathway_generator"
   ]
  },
  {
   "cell_type": "code",
   "execution_count": 7,
   "metadata": {
    "collapsed": false
   },
   "outputs": [],
   "source": [
    "from reactionGenerator import pathwayGenerator\n",
    "pathwayGenerator(rxtA, rxtB, pdtC, rmg, family_interested)"
   ]
  },
  {
   "cell_type": "code",
   "execution_count": 21,
   "metadata": {
    "collapsed": false
   },
   "outputs": [],
   "source": [
    "from rmgpy.chemkin import ChemkinWriter"
   ]
  },
  {
   "cell_type": "code",
   "execution_count": 23,
   "metadata": {
    "collapsed": false
   },
   "outputs": [],
   "source": [
    "path = os.path.abspath('./') + '/rxn_gen/'\n",
    "rmg.attach(ChemkinWriter(path))"
   ]
  },
  {
   "cell_type": "code",
   "execution_count": null,
   "metadata": {
    "collapsed": true
   },
   "outputs": [],
   "source": []
  }
 ],
 "metadata": {
  "kernelspec": {
   "display_name": "Python 2",
   "language": "python",
   "name": "python2"
  },
  "language_info": {
   "codemirror_mode": {
    "name": "ipython",
    "version": 2
   },
   "file_extension": ".py",
   "mimetype": "text/x-python",
   "name": "python",
   "nbconvert_exporter": "python",
   "pygments_lexer": "ipython2",
   "version": "2.7.11"
  }
 },
 "nbformat": 4,
 "nbformat_minor": 0
}
