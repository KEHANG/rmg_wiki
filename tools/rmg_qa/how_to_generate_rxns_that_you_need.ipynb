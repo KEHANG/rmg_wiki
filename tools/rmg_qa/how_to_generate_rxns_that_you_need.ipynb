{
 "cells": [
  {
   "cell_type": "markdown",
   "metadata": {},
   "source": [
    "# Generate rxns that only you need\n",
    "\n",
    "Han, Kehang (hkh12@mit.edu)"
   ]
  },
  {
   "cell_type": "markdown",
   "metadata": {},
   "source": [
    "## Set-up"
   ]
  },
  {
   "cell_type": "code",
   "execution_count": null,
   "metadata": {
    "collapsed": true
   },
   "outputs": [],
   "source": [
    "import os\n",
    "from rmgpy.rmg.main import RMG, CoreEdgeReactionModel\n",
    "from rmgpy.data.rmg import RMGDatabase\n",
    "from rmgpy import settings"
   ]
  },
  {
   "cell_type": "code",
   "execution_count": null,
   "metadata": {
    "collapsed": true
   },
   "outputs": [],
   "source": [
    "# set-up RMG object\n",
    "rmg = RMG()"
   ]
  },
  {
   "cell_type": "code",
   "execution_count": null,
   "metadata": {
    "collapsed": false
   },
   "outputs": [],
   "source": [
    "# load kinetic database and forbidden structures\n",
    "rmg.database = RMGDatabase()\n",
    "path = os.path.join(settings['database.directory'])"
   ]
  },
  {
   "cell_type": "code",
   "execution_count": null,
   "metadata": {
    "collapsed": false
   },
   "outputs": [],
   "source": [
    "# set up kinetics db\n",
    "from rmgpy.data.rmg import database\n",
    "# forbidden structure loading\n",
    "database.loadForbiddenStructures(os.path.join(path, 'forbiddenStructures.py'))\n",
    "# kinetics family Disproportionation loading\n",
    "database.loadKinetics(os.path.join(path, 'kinetics'), kineticsFamilies='default', reactionLibraries=[],kineticsDepositories=[])"
   ]
  },
  {
   "cell_type": "code",
   "execution_count": null,
   "metadata": {
    "collapsed": false
   },
   "outputs": [],
   "source": [
    "# set up thermo and transport db\n",
    "database.loadThermo(os.path.join(path, 'thermo'), thermoLibraries=['primaryThermoLibrary'])\n",
    "database.loadTransport(os.path.join(path, 'transport'))"
   ]
  },
  {
   "cell_type": "code",
   "execution_count": null,
   "metadata": {
    "collapsed": false
   },
   "outputs": [],
   "source": [
    "# set up chemkin file saving condition\n",
    "from rmgpy.chemkin import ChemkinWriter\n",
    "from rmgpy.rmg.output import OutputHTMLWriter\n",
    "\n",
    "# set rmg kinetics estimator\n",
    "rmg.reactionModel = CoreEdgeReactionModel()\n",
    "rmg.reactionModel.kineticsEstimator = \"rate rules\"\n",
    "\n",
    "rmg.saveEdgeSpecies = True"
   ]
  },
  {
   "cell_type": "markdown",
   "metadata": {},
   "source": [
    "## Input"
   ]
  },
  {
   "cell_type": "code",
   "execution_count": null,
   "metadata": {
    "collapsed": true
   },
   "outputs": [],
   "source": [
    "from rmg_wiki.utilities.reactionGenerator import loadInput, pathwayGenerator, loadSpeciesDictionary\n",
    "pathway_inputfile = 'rxn_gen/surrogate/input.dat'\n",
    "pathway_spec_dictfile = 'rxn_gen/surrogate/species_dictionary.txt'\n",
    "output_path = os.path.dirname(pathway_inputfile)\n",
    "rmg.outputDirectory = output_path\n",
    "rmg.attach(ChemkinWriter(output_path))\n",
    "rmg.attach(OutputHTMLWriter(output_path))\n",
    "\n",
    "family_list, reactants_list, products_list = loadInput(pathway_inputfile)\n",
    "speciesDict = loadSpeciesDictionary(pathway_spec_dictfile)"
   ]
  },
  {
   "cell_type": "code",
   "execution_count": null,
   "metadata": {
    "collapsed": false
   },
   "outputs": [],
   "source": [
    "# create input species and family of interest\n",
    "from rmgpy.rmg.model import Species\n",
    "for family, reactants_str, products_str in zip(family_list, reactants_list, products_list):\n",
    "    reactants = []\n",
    "    products = []\n",
    "    for reactant_str in reactants_str:\n",
    "        try:# try if reactant_str is a smiles\n",
    "            reactants.append(Species().fromSMILES(reactant_str))\n",
    "        except:\n",
    "            reactants.append(speciesDict[reactant_str])\n",
    "    for product_str in products_str:\n",
    "        try:\n",
    "            products.append(Species().fromSMILES(product_str))\n",
    "        except:\n",
    "            products.append(speciesDict[product_str])\n",
    "\n",
    "    # gen thermo and transport for reactants\n",
    "    for spec in reactants:\n",
    "        spec.generateThermoData(database)\n",
    "        spec.generateTransportData(database)\n",
    "    # pathway generation\n",
    "    pathwayGenerator(reactants, products, rmg, [family])"
   ]
  },
  {
   "cell_type": "markdown",
   "metadata": {
    "collapsed": true
   },
   "source": [
    "## Output"
   ]
  },
  {
   "cell_type": "code",
   "execution_count": null,
   "metadata": {
    "collapsed": false
   },
   "outputs": [],
   "source": [
    "# save chemkin file for this step\n",
    "rmg.reactionModel.outputSpeciesList.extend(rmg.reactionModel.edge.species)\n",
    "rmg.reactionModel.outputReactionList.extend(rmg.reactionModel.edge.reactions)\n",
    "rmg.saveEverything()"
   ]
  },
  {
   "cell_type": "code",
   "execution_count": null,
   "metadata": {
    "collapsed": true
   },
   "outputs": [],
   "source": []
  }
 ],
 "metadata": {
  "kernelspec": {
   "display_name": "Python 2",
   "language": "python",
   "name": "python2"
  },
  "language_info": {
   "codemirror_mode": {
    "name": "ipython",
    "version": 2
   },
   "file_extension": ".py",
   "mimetype": "text/x-python",
   "name": "python",
   "nbconvert_exporter": "python",
   "pygments_lexer": "ipython2",
   "version": "2.7.11"
  }
 },
 "nbformat": 4,
 "nbformat_minor": 0
}
