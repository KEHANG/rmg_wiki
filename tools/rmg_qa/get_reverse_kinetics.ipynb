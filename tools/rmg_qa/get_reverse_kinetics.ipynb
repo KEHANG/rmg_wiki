{
 "cells": [
  {
   "cell_type": "markdown",
   "metadata": {},
   "source": [
    "# How to get reverse kinetics for a rxn?\n",
    "\n",
    "This ipynb will solve the commonly seen question, what is the reverse reaction rate at certain condition given the forward (A, n, Ea) kinetics.\n",
    "\n",
    "- input: reactants and products of forward reaction, forward kinetics (A, n, Ea), temperature of interest\n",
    "\n",
    "- output: reverse reaction rate at input temperature"
   ]
  },
  {
   "cell_type": "markdown",
   "metadata": {},
   "source": [
    "## Inputs"
   ]
  },
  {
   "cell_type": "code",
   "execution_count": 46,
   "metadata": {
    "collapsed": true
   },
   "outputs": [],
   "source": [
    "# reactants and products\n",
    "reactants = ['C=Cc1ccccc1', 'CCCCCCCCC[CH2]']\n",
    "products = ['CCCCCCCCCCC[CH]c1ccccc1']"
   ]
  },
  {
   "cell_type": "code",
   "execution_count": 47,
   "metadata": {
    "collapsed": true
   },
   "outputs": [],
   "source": [
    "# forward kinetics (A, n, Ea)\n",
    "A = 7.820e+02 # cm3/mol/s\n",
    "n = 2.41\n",
    "Ea = 3.71 # kcal/mol"
   ]
  },
  {
   "cell_type": "code",
   "execution_count": 48,
   "metadata": {
    "collapsed": true
   },
   "outputs": [],
   "source": [
    "# temperature of interest\n",
    "T = 673 # K"
   ]
  },
  {
   "cell_type": "markdown",
   "metadata": {},
   "source": [
    "## Calculation procedure"
   ]
  },
  {
   "cell_type": "code",
   "execution_count": 49,
   "metadata": {
    "collapsed": false
   },
   "outputs": [],
   "source": [
    "from rmgpy.rmg.model import Species\n",
    "from rmgpy.data.thermo import ThermoDatabase, NASA\n",
    "import math\n",
    "R = 8.314\n",
    "thermodb = ThermoDatabase()\n",
    "path = '/home/kehang/Code/rmgmaster/RMG-database/input/thermo'\n",
    "thermodb.load(path)"
   ]
  },
  {
   "cell_type": "code",
   "execution_count": 50,
   "metadata": {
    "collapsed": false
   },
   "outputs": [],
   "source": [
    "# get Gibbs free energy for all the species\n",
    "rxts_prds_spc = []\n",
    "for smiles in (reactants + products):\n",
    "    spc = Species(label=smiles).fromSMILES(smiles)\n",
    "    spc.generateResonanceIsomers() # really important!\n",
    "    rxts_prds_spc.append(spc)\n",
    "    # calculate thermo\n",
    "    thermo = thermodb.getThermoData(spc, None, None)\n",
    "    _ = spc.processThermoData(None, thermo, NASA)\n",
    "    "
   ]
  },
  {
   "cell_type": "code",
   "execution_count": 51,
   "metadata": {
    "collapsed": false
   },
   "outputs": [
    {
     "name": "stdout",
     "output_type": "stream",
     "text": [
      "C=Cc1ccccc1\n",
      "51.9260695668\n",
      "CCCCCCCCC[CH2]\n",
      "19.1663979162\n",
      "CCCCCCCCCCC[CH]c1ccccc1\n",
      "38.8364744444\n"
     ]
    }
   ],
   "source": [
    "# get deltaG for the forward reaction\n",
    "deltaG = 0\n",
    "for spc in rxts_prds_spc:\n",
    "    if spc.label in reactants:\n",
    "        deltaG -= spc.getFreeEnergy(T)\n",
    "        print spc\n",
    "        print spc.getEnthalpy(T)/4184\n",
    "    elif spc.label in products:\n",
    "        deltaG += spc.getFreeEnergy(T) \n",
    "        print spc\n",
    "        print spc.getEnthalpy(T)/4184"
   ]
  },
  {
   "cell_type": "code",
   "execution_count": 52,
   "metadata": {
    "collapsed": false
   },
   "outputs": [
    {
     "name": "stdout",
     "output_type": "stream",
     "text": [
      "-1\n"
     ]
    },
    {
     "data": {
      "text/plain": [
       "5113481.621509884"
      ]
     },
     "execution_count": 52,
     "metadata": {},
     "output_type": "execute_result"
    }
   ],
   "source": [
    "# calculate equilibrium const K\n",
    "order = len(products)-len(reactants)\n",
    "print order\n",
    "K = math.exp(-deltaG/R/T)*(1/(R*T)/10)**order\n",
    "K"
   ]
  },
  {
   "cell_type": "code",
   "execution_count": 53,
   "metadata": {
    "collapsed": false
   },
   "outputs": [
    {
     "name": "stdout",
     "output_type": "stream",
     "text": [
      "319077163.267\n"
     ]
    }
   ],
   "source": [
    "# calculate forward k_f\n",
    "k_f = A*(T**n)*math.exp(-Ea*4184/R/T)\n",
    "print k_f"
   ]
  },
  {
   "cell_type": "code",
   "execution_count": 54,
   "metadata": {
    "collapsed": false
   },
   "outputs": [
    {
     "name": "stdout",
     "output_type": "stream",
     "text": [
      "62.3992001701\n"
     ]
    }
   ],
   "source": [
    "# calculate reverse k_r by k_f/K\n",
    "k_r = k_f/K\n",
    "print k_r"
   ]
  },
  {
   "cell_type": "markdown",
   "metadata": {},
   "source": [
    "Next steps:\n",
    "\n",
    "- the equilibrium const need more investigation when the numbers of products and reactants are not equal"
   ]
  }
 ],
 "metadata": {
  "kernelspec": {
   "display_name": "Python 2",
   "language": "python",
   "name": "python2"
  },
  "language_info": {
   "codemirror_mode": {
    "name": "ipython",
    "version": 2
   },
   "file_extension": ".py",
   "mimetype": "text/x-python",
   "name": "python",
   "nbconvert_exporter": "python",
   "pygments_lexer": "ipython2",
   "version": "2.7.11"
  }
 },
 "nbformat": 4,
 "nbformat_minor": 0
}
