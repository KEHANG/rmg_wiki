{
 "cells": [
  {
   "cell_type": "markdown",
   "metadata": {},
   "source": [
    "# How to get reverse kinetics for a rxn?\n",
    "\n",
    "This ipynb will solve the commonly seen question, what is the reverse reaction rate at certain condition given the forward (A, n, Ea) kinetics.\n",
    "\n",
    "- input: reactants and products of forward reaction, forward kinetics (A, n, Ea), temperature of interest\n",
    "\n",
    "- output: reverse reaction rate at input temperature"
   ]
  },
  {
   "cell_type": "markdown",
   "metadata": {},
   "source": [
    "## Inputs"
   ]
  },
  {
   "cell_type": "code",
   "execution_count": 1,
   "metadata": {
    "collapsed": true
   },
   "outputs": [],
   "source": [
    "# reactants and products\n",
    "reactants = ['CC','CC[CH2]']\n",
    "products = ['C[CH2]','CCC']"
   ]
  },
  {
   "cell_type": "code",
   "execution_count": 2,
   "metadata": {
    "collapsed": true
   },
   "outputs": [],
   "source": [
    "# forward kinetics (A, n, Ea)\n",
    "A = 1e11 # cm3/mol/s\n",
    "n = 0.0\n",
    "Ea = 10.4 # kcal/mol"
   ]
  },
  {
   "cell_type": "code",
   "execution_count": 3,
   "metadata": {
    "collapsed": true
   },
   "outputs": [],
   "source": [
    "# temperature of interest\n",
    "T = 1000 # K"
   ]
  },
  {
   "cell_type": "markdown",
   "metadata": {},
   "source": [
    "## Calculation procedure"
   ]
  },
  {
   "cell_type": "code",
   "execution_count": 4,
   "metadata": {
    "collapsed": false
   },
   "outputs": [],
   "source": [
    "from rmgpy.rmg.model import Species\n",
    "from rmgpy.data.thermo import ThermoDatabase, NASA\n",
    "import math\n",
    "R = 8.314\n",
    "thermodb = ThermoDatabase()\n",
    "path = '/Users/kehang/Code/rmgmaster/RMG-database/input/thermo'\n",
    "thermodb.load(path)"
   ]
  },
  {
   "cell_type": "code",
   "execution_count": 5,
   "metadata": {
    "collapsed": false
   },
   "outputs": [],
   "source": [
    "# get Gibbs free energy for all the species\n",
    "rxts_prds_spc = []\n",
    "for smiles in (reactants + products):\n",
    "    spc = Species(label=smiles).fromSMILES(smiles)\n",
    "    rxts_prds_spc.append(spc)\n",
    "    # calculate thermo\n",
    "    thermo = thermodb.getThermoData(spc, None, None)\n",
    "    _ = spc.processThermoData(None, thermo, NASA)"
   ]
  },
  {
   "cell_type": "code",
   "execution_count": 6,
   "metadata": {
    "collapsed": false
   },
   "outputs": [],
   "source": [
    "# get deltaG for the forward reaction\n",
    "deltaG = 0\n",
    "for spc in rxts_prds_spc:\n",
    "    if spc.label in reactants:\n",
    "        deltaG -= spc.getFreeEnergy(T)\n",
    "    elif spc.label in products:\n",
    "        deltaG += spc.getFreeEnergy(T)      "
   ]
  },
  {
   "cell_type": "code",
   "execution_count": 7,
   "metadata": {
    "collapsed": false
   },
   "outputs": [],
   "source": [
    "# calculate equilibrium const K\n",
    "K = math.exp(-deltaG/R/T)\n",
    "\n",
    "# calculate forward k_f\n",
    "k_f = A*(T**n)*math.exp(-Ea*4184/R/T)\n",
    "\n",
    "# calculate reverse k_r by k_f/K\n",
    "k_r = k_f/K"
   ]
  },
  {
   "cell_type": "markdown",
   "metadata": {},
   "source": [
    "Next steps:\n",
    "\n",
    "- the equilibrium const need more investigation when the numbers of products and reactants are not equal"
   ]
  }
 ],
 "metadata": {
  "kernelspec": {
   "display_name": "Python 2",
   "language": "python",
   "name": "python2"
  },
  "language_info": {
   "codemirror_mode": {
    "name": "ipython",
    "version": 2
   },
   "file_extension": ".py",
   "mimetype": "text/x-python",
   "name": "python",
   "nbconvert_exporter": "python",
   "pygments_lexer": "ipython2",
   "version": "2.7.10"
  }
 },
 "nbformat": 4,
 "nbformat_minor": 0
}
